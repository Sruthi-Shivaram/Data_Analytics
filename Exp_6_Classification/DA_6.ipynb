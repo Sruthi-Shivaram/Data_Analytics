{
  "nbformat": 4,
  "nbformat_minor": 0,
  "metadata": {
    "colab": {
      "provenance": [],
      "mount_file_id": "1g44GzFT2_T2Du683ZdHqXrTAeNsBcEw7",
      "authorship_tag": "ABX9TyOApngxlrMjjjVHaLx41/Xa",
      "include_colab_link": true
    },
    "kernelspec": {
      "name": "python3",
      "display_name": "Python 3"
    },
    "language_info": {
      "name": "python"
    }
  },
  "cells": [
    {
      "cell_type": "markdown",
      "metadata": {
        "id": "view-in-github",
        "colab_type": "text"
      },
      "source": [
        "<a href=\"https://colab.research.google.com/github/Sruthi-Shivaram/Data_Analytics/blob/main/Exp_6_Classification/DA_6.ipynb\" target=\"_parent\"><img src=\"https://colab.research.google.com/assets/colab-badge.svg\" alt=\"Open In Colab\"/></a>"
      ]
    },
    {
      "cell_type": "markdown",
      "source": [
        "Name: Sruthi Shivaramakrishnan\n",
        "\n",
        "UID: 2019110059\n",
        "\n",
        "Batch: A\n",
        "\n",
        "Branch: ETRX"
      ],
      "metadata": {
        "id": "w9aIZx2OGcIG"
      }
    },
    {
      "cell_type": "markdown",
      "source": [
        "Objective: Separating Spam From Ham"
      ],
      "metadata": {
        "id": "LAJPHQHSyg4d"
      }
    },
    {
      "cell_type": "markdown",
      "source": [
        "Dataset used: Emails.csv dataset"
      ],
      "metadata": {
        "id": "PGnBTsrnzR88"
      }
    },
    {
      "cell_type": "markdown",
      "source": [
        "\n",
        "Problem 1.1 – Loading the Dataset\n",
        "Begin by loading the dataset emails.csv into a data frame called emails (don't open the file with \n",
        "liboffice; import into python directly to avoid errors). Remember to pass the \n",
        "stringsAsFactors=FALSE option when loading the data. "
      ],
      "metadata": {
        "id": "Bbm11gJEzsXY"
      }
    },
    {
      "cell_type": "code",
      "execution_count": 35,
      "metadata": {
        "id": "flGv7Au-p_eo"
      },
      "outputs": [],
      "source": [
        "import pandas as pd\n",
        "import numpy as np\n",
        "import matplotlib.pyplot as plt\n",
        "import seaborn as sns\n",
        "from collections import Counter"
      ]
    },
    {
      "cell_type": "markdown",
      "source": [
        "Loading the dataset "
      ],
      "metadata": {
        "id": "yB7AQQOA2M_O"
      }
    },
    {
      "cell_type": "code",
      "source": [
        "data_set= pd.read_csv('/content/drive/MyDrive/emails.csv')  \n",
        "data_set.head()"
      ],
      "metadata": {
        "colab": {
          "base_uri": "https://localhost:8080/",
          "height": 206
        },
        "id": "k4IJiHcIqwv9",
        "outputId": "a7290d9c-c2b0-4193-b975-1cade1a70582"
      },
      "execution_count": 36,
      "outputs": [
        {
          "output_type": "execute_result",
          "data": {
            "text/plain": [
              "                                                text  spam\n",
              "0  Subject: naturally irresistible your corporate...     1\n",
              "1  Subject: the stock trading gunslinger  fanny i...     1\n",
              "2  Subject: unbelievable new homes made easy  im ...     1\n",
              "3  Subject: 4 color printing special  request add...     1\n",
              "4  Subject: do not have money , get software cds ...     1"
            ],
            "text/html": [
              "\n",
              "  <div id=\"df-d9aa4081-43bb-4a69-9acb-c0fedb7f6d26\">\n",
              "    <div class=\"colab-df-container\">\n",
              "      <div>\n",
              "<style scoped>\n",
              "    .dataframe tbody tr th:only-of-type {\n",
              "        vertical-align: middle;\n",
              "    }\n",
              "\n",
              "    .dataframe tbody tr th {\n",
              "        vertical-align: top;\n",
              "    }\n",
              "\n",
              "    .dataframe thead th {\n",
              "        text-align: right;\n",
              "    }\n",
              "</style>\n",
              "<table border=\"1\" class=\"dataframe\">\n",
              "  <thead>\n",
              "    <tr style=\"text-align: right;\">\n",
              "      <th></th>\n",
              "      <th>text</th>\n",
              "      <th>spam</th>\n",
              "    </tr>\n",
              "  </thead>\n",
              "  <tbody>\n",
              "    <tr>\n",
              "      <th>0</th>\n",
              "      <td>Subject: naturally irresistible your corporate...</td>\n",
              "      <td>1</td>\n",
              "    </tr>\n",
              "    <tr>\n",
              "      <th>1</th>\n",
              "      <td>Subject: the stock trading gunslinger  fanny i...</td>\n",
              "      <td>1</td>\n",
              "    </tr>\n",
              "    <tr>\n",
              "      <th>2</th>\n",
              "      <td>Subject: unbelievable new homes made easy  im ...</td>\n",
              "      <td>1</td>\n",
              "    </tr>\n",
              "    <tr>\n",
              "      <th>3</th>\n",
              "      <td>Subject: 4 color printing special  request add...</td>\n",
              "      <td>1</td>\n",
              "    </tr>\n",
              "    <tr>\n",
              "      <th>4</th>\n",
              "      <td>Subject: do not have money , get software cds ...</td>\n",
              "      <td>1</td>\n",
              "    </tr>\n",
              "  </tbody>\n",
              "</table>\n",
              "</div>\n",
              "      <button class=\"colab-df-convert\" onclick=\"convertToInteractive('df-d9aa4081-43bb-4a69-9acb-c0fedb7f6d26')\"\n",
              "              title=\"Convert this dataframe to an interactive table.\"\n",
              "              style=\"display:none;\">\n",
              "        \n",
              "  <svg xmlns=\"http://www.w3.org/2000/svg\" height=\"24px\"viewBox=\"0 0 24 24\"\n",
              "       width=\"24px\">\n",
              "    <path d=\"M0 0h24v24H0V0z\" fill=\"none\"/>\n",
              "    <path d=\"M18.56 5.44l.94 2.06.94-2.06 2.06-.94-2.06-.94-.94-2.06-.94 2.06-2.06.94zm-11 1L8.5 8.5l.94-2.06 2.06-.94-2.06-.94L8.5 2.5l-.94 2.06-2.06.94zm10 10l.94 2.06.94-2.06 2.06-.94-2.06-.94-.94-2.06-.94 2.06-2.06.94z\"/><path d=\"M17.41 7.96l-1.37-1.37c-.4-.4-.92-.59-1.43-.59-.52 0-1.04.2-1.43.59L10.3 9.45l-7.72 7.72c-.78.78-.78 2.05 0 2.83L4 21.41c.39.39.9.59 1.41.59.51 0 1.02-.2 1.41-.59l7.78-7.78 2.81-2.81c.8-.78.8-2.07 0-2.86zM5.41 20L4 18.59l7.72-7.72 1.47 1.35L5.41 20z\"/>\n",
              "  </svg>\n",
              "      </button>\n",
              "      \n",
              "  <style>\n",
              "    .colab-df-container {\n",
              "      display:flex;\n",
              "      flex-wrap:wrap;\n",
              "      gap: 12px;\n",
              "    }\n",
              "\n",
              "    .colab-df-convert {\n",
              "      background-color: #E8F0FE;\n",
              "      border: none;\n",
              "      border-radius: 50%;\n",
              "      cursor: pointer;\n",
              "      display: none;\n",
              "      fill: #1967D2;\n",
              "      height: 32px;\n",
              "      padding: 0 0 0 0;\n",
              "      width: 32px;\n",
              "    }\n",
              "\n",
              "    .colab-df-convert:hover {\n",
              "      background-color: #E2EBFA;\n",
              "      box-shadow: 0px 1px 2px rgba(60, 64, 67, 0.3), 0px 1px 3px 1px rgba(60, 64, 67, 0.15);\n",
              "      fill: #174EA6;\n",
              "    }\n",
              "\n",
              "    [theme=dark] .colab-df-convert {\n",
              "      background-color: #3B4455;\n",
              "      fill: #D2E3FC;\n",
              "    }\n",
              "\n",
              "    [theme=dark] .colab-df-convert:hover {\n",
              "      background-color: #434B5C;\n",
              "      box-shadow: 0px 1px 3px 1px rgba(0, 0, 0, 0.15);\n",
              "      filter: drop-shadow(0px 1px 2px rgba(0, 0, 0, 0.3));\n",
              "      fill: #FFFFFF;\n",
              "    }\n",
              "  </style>\n",
              "\n",
              "      <script>\n",
              "        const buttonEl =\n",
              "          document.querySelector('#df-d9aa4081-43bb-4a69-9acb-c0fedb7f6d26 button.colab-df-convert');\n",
              "        buttonEl.style.display =\n",
              "          google.colab.kernel.accessAllowed ? 'block' : 'none';\n",
              "\n",
              "        async function convertToInteractive(key) {\n",
              "          const element = document.querySelector('#df-d9aa4081-43bb-4a69-9acb-c0fedb7f6d26');\n",
              "          const dataTable =\n",
              "            await google.colab.kernel.invokeFunction('convertToInteractive',\n",
              "                                                     [key], {});\n",
              "          if (!dataTable) return;\n",
              "\n",
              "          const docLinkHtml = 'Like what you see? Visit the ' +\n",
              "            '<a target=\"_blank\" href=https://colab.research.google.com/notebooks/data_table.ipynb>data table notebook</a>'\n",
              "            + ' to learn more about interactive tables.';\n",
              "          element.innerHTML = '';\n",
              "          dataTable['output_type'] = 'display_data';\n",
              "          await google.colab.output.renderOutput(dataTable, element);\n",
              "          const docLink = document.createElement('div');\n",
              "          docLink.innerHTML = docLinkHtml;\n",
              "          element.appendChild(docLink);\n",
              "        }\n",
              "      </script>\n",
              "    </div>\n",
              "  </div>\n",
              "  "
            ]
          },
          "metadata": {},
          "execution_count": 36
        }
      ]
    },
    {
      "cell_type": "code",
      "source": [
        "data_set.describe()"
      ],
      "metadata": {
        "colab": {
          "base_uri": "https://localhost:8080/",
          "height": 300
        },
        "id": "01Pt2UppqzcZ",
        "outputId": "9a110408-bd6b-4089-ff63-b27d05218276"
      },
      "execution_count": 37,
      "outputs": [
        {
          "output_type": "execute_result",
          "data": {
            "text/plain": [
              "              spam\n",
              "count  5728.000000\n",
              "mean      0.238827\n",
              "std       0.426404\n",
              "min       0.000000\n",
              "25%       0.000000\n",
              "50%       0.000000\n",
              "75%       0.000000\n",
              "max       1.000000"
            ],
            "text/html": [
              "\n",
              "  <div id=\"df-da7eb792-4a9f-4c4b-8f15-e2616c2e8667\">\n",
              "    <div class=\"colab-df-container\">\n",
              "      <div>\n",
              "<style scoped>\n",
              "    .dataframe tbody tr th:only-of-type {\n",
              "        vertical-align: middle;\n",
              "    }\n",
              "\n",
              "    .dataframe tbody tr th {\n",
              "        vertical-align: top;\n",
              "    }\n",
              "\n",
              "    .dataframe thead th {\n",
              "        text-align: right;\n",
              "    }\n",
              "</style>\n",
              "<table border=\"1\" class=\"dataframe\">\n",
              "  <thead>\n",
              "    <tr style=\"text-align: right;\">\n",
              "      <th></th>\n",
              "      <th>spam</th>\n",
              "    </tr>\n",
              "  </thead>\n",
              "  <tbody>\n",
              "    <tr>\n",
              "      <th>count</th>\n",
              "      <td>5728.000000</td>\n",
              "    </tr>\n",
              "    <tr>\n",
              "      <th>mean</th>\n",
              "      <td>0.238827</td>\n",
              "    </tr>\n",
              "    <tr>\n",
              "      <th>std</th>\n",
              "      <td>0.426404</td>\n",
              "    </tr>\n",
              "    <tr>\n",
              "      <th>min</th>\n",
              "      <td>0.000000</td>\n",
              "    </tr>\n",
              "    <tr>\n",
              "      <th>25%</th>\n",
              "      <td>0.000000</td>\n",
              "    </tr>\n",
              "    <tr>\n",
              "      <th>50%</th>\n",
              "      <td>0.000000</td>\n",
              "    </tr>\n",
              "    <tr>\n",
              "      <th>75%</th>\n",
              "      <td>0.000000</td>\n",
              "    </tr>\n",
              "    <tr>\n",
              "      <th>max</th>\n",
              "      <td>1.000000</td>\n",
              "    </tr>\n",
              "  </tbody>\n",
              "</table>\n",
              "</div>\n",
              "      <button class=\"colab-df-convert\" onclick=\"convertToInteractive('df-da7eb792-4a9f-4c4b-8f15-e2616c2e8667')\"\n",
              "              title=\"Convert this dataframe to an interactive table.\"\n",
              "              style=\"display:none;\">\n",
              "        \n",
              "  <svg xmlns=\"http://www.w3.org/2000/svg\" height=\"24px\"viewBox=\"0 0 24 24\"\n",
              "       width=\"24px\">\n",
              "    <path d=\"M0 0h24v24H0V0z\" fill=\"none\"/>\n",
              "    <path d=\"M18.56 5.44l.94 2.06.94-2.06 2.06-.94-2.06-.94-.94-2.06-.94 2.06-2.06.94zm-11 1L8.5 8.5l.94-2.06 2.06-.94-2.06-.94L8.5 2.5l-.94 2.06-2.06.94zm10 10l.94 2.06.94-2.06 2.06-.94-2.06-.94-.94-2.06-.94 2.06-2.06.94z\"/><path d=\"M17.41 7.96l-1.37-1.37c-.4-.4-.92-.59-1.43-.59-.52 0-1.04.2-1.43.59L10.3 9.45l-7.72 7.72c-.78.78-.78 2.05 0 2.83L4 21.41c.39.39.9.59 1.41.59.51 0 1.02-.2 1.41-.59l7.78-7.78 2.81-2.81c.8-.78.8-2.07 0-2.86zM5.41 20L4 18.59l7.72-7.72 1.47 1.35L5.41 20z\"/>\n",
              "  </svg>\n",
              "      </button>\n",
              "      \n",
              "  <style>\n",
              "    .colab-df-container {\n",
              "      display:flex;\n",
              "      flex-wrap:wrap;\n",
              "      gap: 12px;\n",
              "    }\n",
              "\n",
              "    .colab-df-convert {\n",
              "      background-color: #E8F0FE;\n",
              "      border: none;\n",
              "      border-radius: 50%;\n",
              "      cursor: pointer;\n",
              "      display: none;\n",
              "      fill: #1967D2;\n",
              "      height: 32px;\n",
              "      padding: 0 0 0 0;\n",
              "      width: 32px;\n",
              "    }\n",
              "\n",
              "    .colab-df-convert:hover {\n",
              "      background-color: #E2EBFA;\n",
              "      box-shadow: 0px 1px 2px rgba(60, 64, 67, 0.3), 0px 1px 3px 1px rgba(60, 64, 67, 0.15);\n",
              "      fill: #174EA6;\n",
              "    }\n",
              "\n",
              "    [theme=dark] .colab-df-convert {\n",
              "      background-color: #3B4455;\n",
              "      fill: #D2E3FC;\n",
              "    }\n",
              "\n",
              "    [theme=dark] .colab-df-convert:hover {\n",
              "      background-color: #434B5C;\n",
              "      box-shadow: 0px 1px 3px 1px rgba(0, 0, 0, 0.15);\n",
              "      filter: drop-shadow(0px 1px 2px rgba(0, 0, 0, 0.3));\n",
              "      fill: #FFFFFF;\n",
              "    }\n",
              "  </style>\n",
              "\n",
              "      <script>\n",
              "        const buttonEl =\n",
              "          document.querySelector('#df-da7eb792-4a9f-4c4b-8f15-e2616c2e8667 button.colab-df-convert');\n",
              "        buttonEl.style.display =\n",
              "          google.colab.kernel.accessAllowed ? 'block' : 'none';\n",
              "\n",
              "        async function convertToInteractive(key) {\n",
              "          const element = document.querySelector('#df-da7eb792-4a9f-4c4b-8f15-e2616c2e8667');\n",
              "          const dataTable =\n",
              "            await google.colab.kernel.invokeFunction('convertToInteractive',\n",
              "                                                     [key], {});\n",
              "          if (!dataTable) return;\n",
              "\n",
              "          const docLinkHtml = 'Like what you see? Visit the ' +\n",
              "            '<a target=\"_blank\" href=https://colab.research.google.com/notebooks/data_table.ipynb>data table notebook</a>'\n",
              "            + ' to learn more about interactive tables.';\n",
              "          element.innerHTML = '';\n",
              "          dataTable['output_type'] = 'display_data';\n",
              "          await google.colab.output.renderOutput(dataTable, element);\n",
              "          const docLink = document.createElement('div');\n",
              "          docLink.innerHTML = docLinkHtml;\n",
              "          element.appendChild(docLink);\n",
              "        }\n",
              "      </script>\n",
              "    </div>\n",
              "  </div>\n",
              "  "
            ]
          },
          "metadata": {},
          "execution_count": 37
        }
      ]
    },
    {
      "cell_type": "code",
      "source": [
        "data_set.info()\n"
      ],
      "metadata": {
        "colab": {
          "base_uri": "https://localhost:8080/"
        },
        "id": "vb2CM7iAsTR_",
        "outputId": "0b572c15-97f6-4636-b710-fd7e05cc7150"
      },
      "execution_count": 38,
      "outputs": [
        {
          "output_type": "stream",
          "name": "stdout",
          "text": [
            "<class 'pandas.core.frame.DataFrame'>\n",
            "RangeIndex: 5728 entries, 0 to 5727\n",
            "Data columns (total 2 columns):\n",
            " #   Column  Non-Null Count  Dtype \n",
            "---  ------  --------------  ----- \n",
            " 0   text    5728 non-null   object\n",
            " 1   spam    5728 non-null   int64 \n",
            "dtypes: int64(1), object(1)\n",
            "memory usage: 89.6+ KB\n"
          ]
        }
      ]
    },
    {
      "cell_type": "markdown",
      "source": [
        "Checking the number of rows and columns"
      ],
      "metadata": {
        "id": "KFT5wAFD2Vyu"
      }
    },
    {
      "cell_type": "markdown",
      "source": [
        "How many emails are in the dataset? "
      ],
      "metadata": {
        "id": "iJAzG9iN0Ao0"
      }
    },
    {
      "cell_type": "code",
      "source": [
        "data_set.shape"
      ],
      "metadata": {
        "colab": {
          "base_uri": "https://localhost:8080/"
        },
        "id": "AFtzNEu3sZVv",
        "outputId": "85eb3e19-bca8-445d-bc7d-98386aff7abc"
      },
      "execution_count": 39,
      "outputs": [
        {
          "output_type": "execute_result",
          "data": {
            "text/plain": [
              "(5728, 2)"
            ]
          },
          "metadata": {},
          "execution_count": 39
        }
      ]
    },
    {
      "cell_type": "markdown",
      "source": [
        "There are 5728 emails in the dataset"
      ],
      "metadata": {
        "id": "7AkIp_8I0CJE"
      }
    },
    {
      "cell_type": "code",
      "source": [
        "data_set['spam'].value_counts()"
      ],
      "metadata": {
        "colab": {
          "base_uri": "https://localhost:8080/"
        },
        "id": "1AUlaHIosfhv",
        "outputId": "03ca3240-f635-4e46-deef-9ba8dab117bc"
      },
      "execution_count": 40,
      "outputs": [
        {
          "output_type": "execute_result",
          "data": {
            "text/plain": [
              "0    4360\n",
              "1    1368\n",
              "Name: spam, dtype: int64"
            ]
          },
          "metadata": {},
          "execution_count": 40
        }
      ]
    },
    {
      "cell_type": "markdown",
      "source": [
        "How many of the emails are spam? \n",
        "\n",
        "There are 1368 spam emails in the dataset"
      ],
      "metadata": {
        "id": "nUc4KXjC0Gmq"
      }
    },
    {
      "cell_type": "code",
      "source": [
        "labels = ['Spam', 'Ham']\n",
        "sizes = [747, 4825]\n",
        "custom_colours = ['#ff7675', '#74b9ff']\n",
        "\n",
        "plt.figure(figsize=(20, 6), dpi=227)\n",
        "plt.subplot(1, 2, 1)\n",
        "plt.pie(sizes, labels = labels, textprops={'fontsize': 15}, startangle=140, \n",
        "       autopct='%1.0f%%', colors=custom_colours, explode=[0, 0.05])\n",
        "\n",
        "plt.subplot(1, 2, 2)\n",
        "sns.barplot(x = data_set['spam'].unique(), y = data_set['spam'].value_counts(), palette= 'viridis')\n",
        "\n",
        "plt.show()"
      ],
      "metadata": {
        "colab": {
          "base_uri": "https://localhost:8080/",
          "height": 394
        },
        "id": "YRZMSgthsuaP",
        "outputId": "85dfcba0-89bc-4a38-8022-9dcdb758f240"
      },
      "execution_count": 41,
      "outputs": [
        {
          "output_type": "display_data",
          "data": {
            "text/plain": [
              "<Figure size 4540x1362 with 2 Axes>"
            ],
            "image/png": "[encoded data removed]"
          },
          "metadata": {
            "needs_background": "light"
          }
        }
      ]
    },
    {
      "cell_type": "markdown",
      "source": [
        "The pie chart shows majority emails(87%) are 'ham' in the dataset"
      ],
      "metadata": {
        "id": "01NlG1TE2dey"
      }
    },
    {
      "cell_type": "code",
      "source": [
        "data_set['Total Words'] = data_set['text'].apply(lambda x: len(x.split()))\n",
        "\n",
        "def count_total_words(text):\n",
        "    char = 0\n",
        "    for word in text.split():\n",
        "        char += len(word)\n",
        "    return char\n",
        "\n",
        "def count_chars(text):\n",
        "    \n",
        "    return len(text)\n",
        "\n",
        "\n",
        "data_set['Total Chars']= data_set['text'].apply(count_chars)"
      ],
      "metadata": {
        "id": "zTL8l-MVtQOa"
      },
      "execution_count": 42,
      "outputs": []
    },
    {
      "cell_type": "code",
      "source": [
        "data_set.head()"
      ],
      "metadata": {
        "colab": {
          "base_uri": "https://localhost:8080/",
          "height": 206
        },
        "id": "wbDgsdu3tYz4",
        "outputId": "3a8abf15-bc47-4491-c777-c2f4d2bf469b"
      },
      "execution_count": 43,
      "outputs": [
        {
          "output_type": "execute_result",
          "data": {
            "text/plain": [
              "                                                text  spam  Total Words  \\\n",
              "0  Subject: naturally irresistible your corporate...     1          324   \n",
              "1  Subject: the stock trading gunslinger  fanny i...     1           89   \n",
              "2  Subject: unbelievable new homes made easy  im ...     1           87   \n",
              "3  Subject: 4 color printing special  request add...     1           98   \n",
              "4  Subject: do not have money , get software cds ...     1           52   \n",
              "\n",
              "   Total Chars  \n",
              "0         1484  \n",
              "1          598  \n",
              "2          448  \n",
              "3          500  \n",
              "4          235  "
            ],
            "text/html": [
              "\n",
              "  <div id=\"df-217e1c4d-58d4-4e0b-8670-d71e885bb93d\">\n",
              "    <div class=\"colab-df-container\">\n",
              "      <div>\n",
              "<style scoped>\n",
              "    .dataframe tbody tr th:only-of-type {\n",
              "        vertical-align: middle;\n",
              "    }\n",
              "\n",
              "    .dataframe tbody tr th {\n",
              "        vertical-align: top;\n",
              "    }\n",
              "\n",
              "    .dataframe thead th {\n",
              "        text-align: right;\n",
              "    }\n",
              "</style>\n",
              "<table border=\"1\" class=\"dataframe\">\n",
              "  <thead>\n",
              "    <tr style=\"text-align: right;\">\n",
              "      <th></th>\n",
              "      <th>text</th>\n",
              "      <th>spam</th>\n",
              "      <th>Total Words</th>\n",
              "      <th>Total Chars</th>\n",
              "    </tr>\n",
              "  </thead>\n",
              "  <tbody>\n",
              "    <tr>\n",
              "      <th>0</th>\n",
              "      <td>Subject: naturally irresistible your corporate...</td>\n",
              "      <td>1</td>\n",
              "      <td>324</td>\n",
              "      <td>1484</td>\n",
              "    </tr>\n",
              "    <tr>\n",
              "      <th>1</th>\n",
              "      <td>Subject: the stock trading gunslinger  fanny i...</td>\n",
              "      <td>1</td>\n",
              "      <td>89</td>\n",
              "      <td>598</td>\n",
              "    </tr>\n",
              "    <tr>\n",
              "      <th>2</th>\n",
              "      <td>Subject: unbelievable new homes made easy  im ...</td>\n",
              "      <td>1</td>\n",
              "      <td>87</td>\n",
              "      <td>448</td>\n",
              "    </tr>\n",
              "    <tr>\n",
              "      <th>3</th>\n",
              "      <td>Subject: 4 color printing special  request add...</td>\n",
              "      <td>1</td>\n",
              "      <td>98</td>\n",
              "      <td>500</td>\n",
              "    </tr>\n",
              "    <tr>\n",
              "      <th>4</th>\n",
              "      <td>Subject: do not have money , get software cds ...</td>\n",
              "      <td>1</td>\n",
              "      <td>52</td>\n",
              "      <td>235</td>\n",
              "    </tr>\n",
              "  </tbody>\n",
              "</table>\n",
              "</div>\n",
              "      <button class=\"colab-df-convert\" onclick=\"convertToInteractive('df-217e1c4d-58d4-4e0b-8670-d71e885bb93d')\"\n",
              "              title=\"Convert this dataframe to an interactive table.\"\n",
              "              style=\"display:none;\">\n",
              "        \n",
              "  <svg xmlns=\"http://www.w3.org/2000/svg\" height=\"24px\"viewBox=\"0 0 24 24\"\n",
              "       width=\"24px\">\n",
              "    <path d=\"M0 0h24v24H0V0z\" fill=\"none\"/>\n",
              "    <path d=\"M18.56 5.44l.94 2.06.94-2.06 2.06-.94-2.06-.94-.94-2.06-.94 2.06-2.06.94zm-11 1L8.5 8.5l.94-2.06 2.06-.94-2.06-.94L8.5 2.5l-.94 2.06-2.06.94zm10 10l.94 2.06.94-2.06 2.06-.94-2.06-.94-.94-2.06-.94 2.06-2.06.94z\"/><path d=\"M17.41 7.96l-1.37-1.37c-.4-.4-.92-.59-1.43-.59-.52 0-1.04.2-1.43.59L10.3 9.45l-7.72 7.72c-.78.78-.78 2.05 0 2.83L4 21.41c.39.39.9.59 1.41.59.51 0 1.02-.2 1.41-.59l7.78-7.78 2.81-2.81c.8-.78.8-2.07 0-2.86zM5.41 20L4 18.59l7.72-7.72 1.47 1.35L5.41 20z\"/>\n",
              "  </svg>\n",
              "      </button>\n",
              "      \n",
              "  <style>\n",
              "    .colab-df-container {\n",
              "      display:flex;\n",
              "      flex-wrap:wrap;\n",
              "      gap: 12px;\n",
              "    }\n",
              "\n",
              "    .colab-df-convert {\n",
              "      background-color: #E8F0FE;\n",
              "      border: none;\n",
              "      border-radius: 50%;\n",
              "      cursor: pointer;\n",
              "      display: none;\n",
              "      fill: #1967D2;\n",
              "      height: 32px;\n",
              "      padding: 0 0 0 0;\n",
              "      width: 32px;\n",
              "    }\n",
              "\n",
              "    .colab-df-convert:hover {\n",
              "      background-color: #E2EBFA;\n",
              "      box-shadow: 0px 1px 2px rgba(60, 64, 67, 0.3), 0px 1px 3px 1px rgba(60, 64, 67, 0.15);\n",
              "      fill: #174EA6;\n",
              "    }\n",
              "\n",
              "    [theme=dark] .colab-df-convert {\n",
              "      background-color: #3B4455;\n",
              "      fill: #D2E3FC;\n",
              "    }\n",
              "\n",
              "    [theme=dark] .colab-df-convert:hover {\n",
              "      background-color: #434B5C;\n",
              "      box-shadow: 0px 1px 3px 1px rgba(0, 0, 0, 0.15);\n",
              "      filter: drop-shadow(0px 1px 2px rgba(0, 0, 0, 0.3));\n",
              "      fill: #FFFFFF;\n",
              "    }\n",
              "  </style>\n",
              "\n",
              "      <script>\n",
              "        const buttonEl =\n",
              "          document.querySelector('#df-217e1c4d-58d4-4e0b-8670-d71e885bb93d button.colab-df-convert');\n",
              "        buttonEl.style.display =\n",
              "          google.colab.kernel.accessAllowed ? 'block' : 'none';\n",
              "\n",
              "        async function convertToInteractive(key) {\n",
              "          const element = document.querySelector('#df-217e1c4d-58d4-4e0b-8670-d71e885bb93d');\n",
              "          const dataTable =\n",
              "            await google.colab.kernel.invokeFunction('convertToInteractive',\n",
              "                                                     [key], {});\n",
              "          if (!dataTable) return;\n",
              "\n",
              "          const docLinkHtml = 'Like what you see? Visit the ' +\n",
              "            '<a target=\"_blank\" href=https://colab.research.google.com/notebooks/data_table.ipynb>data table notebook</a>'\n",
              "            + ' to learn more about interactive tables.';\n",
              "          element.innerHTML = '';\n",
              "          dataTable['output_type'] = 'display_data';\n",
              "          await google.colab.output.renderOutput(dataTable, element);\n",
              "          const docLink = document.createElement('div');\n",
              "          docLink.innerHTML = docLinkHtml;\n",
              "          element.appendChild(docLink);\n",
              "        }\n",
              "      </script>\n",
              "    </div>\n",
              "  </div>\n",
              "  "
            ]
          },
          "metadata": {},
          "execution_count": 43
        }
      ]
    },
    {
      "cell_type": "markdown",
      "source": [
        "Which word appears at the beginning of every email in the dataset? Respond as a lower-case word with punctuation removed?\n",
        "\n",
        "The dataset shows the word 'Subject' appears in the beginning of every email."
      ],
      "metadata": {
        "id": "5SvIaKlG0aQT"
      }
    },
    {
      "cell_type": "code",
      "source": [
        "data_set.columns"
      ],
      "metadata": {
        "colab": {
          "base_uri": "https://localhost:8080/"
        },
        "id": "ycsWPqEsjK1R",
        "outputId": "44ac501f-972c-4f6c-e191-9ce92b4ed96f"
      },
      "execution_count": 44,
      "outputs": [
        {
          "output_type": "execute_result",
          "data": {
            "text/plain": [
              "Index(['text', 'spam', 'Total Words', 'Total Chars'], dtype='object')"
            ]
          },
          "metadata": {},
          "execution_count": 44
        }
      ]
    },
    {
      "cell_type": "code",
      "source": [
        "maxval = data_set['Total Chars'].max()\n",
        "\n",
        " \n",
        " \n",
        "print(\"Maximum Characters: \")\n",
        "print(maxval)\n",
        "\n"
      ],
      "metadata": {
        "colab": {
          "base_uri": "https://localhost:8080/"
        },
        "id": "T2thKH3lih9v",
        "outputId": "24e4fe3e-25bb-4dbf-e356-0dc2b4732a44"
      },
      "execution_count": 45,
      "outputs": [
        {
          "output_type": "stream",
          "name": "stdout",
          "text": [
            "Maximum Characters: \n",
            "43952\n"
          ]
        }
      ]
    },
    {
      "cell_type": "markdown",
      "source": [
        "The nchar() function counts the number of characters in a piece of text. How many characters are in the longest email in the dataset (where longest is measured in terms of the maximum number of characters)\n",
        "\n",
        "The longest number of characters in a piece of text for a email is 43952."
      ],
      "metadata": {
        "id": "1Z7nFxPz0uX1"
      }
    },
    {
      "cell_type": "code",
      "source": [
        "all_spam_words = []\n",
        "for sentence in data_set[data_set['spam'] == 1]['text'].to_list():\n",
        "    for word in sentence.split():\n",
        "        all_spam_words.append(word)\n",
        "\n",
        "df = pd.DataFrame(Counter(all_spam_words).most_common(25), columns= ['Word', 'Frequency'])\n",
        "\n",
        "sns.set_context('notebook', font_scale= 1.3)\n",
        "plt.figure(figsize=(18,8))\n",
        "sns.barplot(y = df['Word'], x= df['Frequency'], palette= 'summer')\n",
        "plt.title(\"Most Commonly Used Spam Words\")\n",
        "plt.xlabel(\"Frequency\")\n",
        "plt.ylabel(\"Spam Words\")\n",
        "plt.show()"
      ],
      "metadata": {
        "colab": {
          "base_uri": "https://localhost:8080/",
          "height": 526
        },
        "id": "B7ecUU5XtdA_",
        "outputId": "c344faa1-c13c-4e58-8c17-df68d4273689"
      },
      "execution_count": 46,
      "outputs": [
        {
          "output_type": "display_data",
          "data": {
            "text/plain": [
              "<Figure size 1296x576 with 1 Axes>"
            ],
            "image/png": "[encoded data removed]"
          },
          "metadata": {
            "needs_background": "light"
          }
        }
      ]
    },
    {
      "cell_type": "markdown",
      "source": [
        "The above dataset finds the most comonly used words in a spam email "
      ],
      "metadata": {
        "id": "IB2l7P2Q2nQz"
      }
    },
    {
      "cell_type": "code",
      "source": [
        "all_ham_words = []\n",
        "for sentence in data_set[data_set['spam'] == 0]['text'].to_list():\n",
        "    for word in sentence.split():\n",
        "        all_ham_words.append(word)\n",
        "\n",
        "df = pd.DataFrame(Counter(all_ham_words).most_common(25), columns= ['Word', 'Frequency'])\n",
        "\n",
        "sns.set_context('notebook', font_scale= 1.3)\n",
        "plt.figure(figsize=(18,8))\n",
        "sns.barplot(y = df['Word'], x= df['Frequency'], palette= 'summer')\n",
        "plt.title(\"Most Commonly Used Ham Words\")\n",
        "plt.xlabel(\"Frequnecy\")\n",
        "plt.ylabel(\"Ham Words\")\n",
        "plt.show()"
      ],
      "metadata": {
        "colab": {
          "base_uri": "https://localhost:8080/",
          "height": 524
        },
        "id": "a-qAtKFbywcm",
        "outputId": "60c6b30a-07ee-4f4d-f7c1-9180a16cd301"
      },
      "execution_count": 47,
      "outputs": [
        {
          "output_type": "display_data",
          "data": {
            "text/plain": [
              "<Figure size 1296x576 with 1 Axes>"
            ],
            "image/png": "[encoded data removed]"
          },
          "metadata": {
            "needs_background": "light"
          }
        }
      ]
    },
    {
      "cell_type": "markdown",
      "source": [
        "The above plot shows the most commonly occuring words in a ham data. The words 'enron' and 'vince' also occur with a frequency of 20,000"
      ],
      "metadata": {
        "id": "cNDIp9Rh2uu5"
      }
    },
    {
      "cell_type": "markdown",
      "source": [
        "Could a spam classifier potentially benefit from including the frequency of the word that appears in every \n",
        "email?  \n",
        " Yes -- the number of times the word appears might help us differentiate spam from ham. \n",
        "\n",
        "No -- the word appears in every email so this variable would not help us differentiate spam from ham. \n",
        "\n",
        "Answer:\n",
        "If the word subject appears only once, in each mail, it wouldn't help us differentiate whereas if the word appears multiple times ,for eg, spam emails might have the word subject occuring more compared to ham emails, this might potentially help us classify spam from ham"
      ],
      "metadata": {
        "id": "McLy8oMS1CnM"
      }
    },
    {
      "cell_type": "code",
      "source": [
        "import nltk\n",
        "\n",
        "nltk.download('stopwords')"
      ],
      "metadata": {
        "colab": {
          "base_uri": "https://localhost:8080/"
        },
        "id": "MXSDCjtEw3l1",
        "outputId": "cb2cbac2-90e8-4ec0-f58f-19d60461f5ad"
      },
      "execution_count": 48,
      "outputs": [
        {
          "output_type": "stream",
          "name": "stderr",
          "text": [
            "[nltk_data] Downloading package stopwords to /root/nltk_data...\n",
            "[nltk_data]   Package stopwords is already up-to-date!\n"
          ]
        },
        {
          "output_type": "execute_result",
          "data": {
            "text/plain": [
              "True"
            ]
          },
          "metadata": {},
          "execution_count": 48
        }
      ]
    },
    {
      "cell_type": "code",
      "source": [
        "data_set = data_set.drop_duplicates()\n",
        "data_set.head()"
      ],
      "metadata": {
        "colab": {
          "base_uri": "https://localhost:8080/",
          "height": 206
        },
        "id": "JTpNRvNRgk9w",
        "outputId": "7851f70e-2d43-4bbd-e752-de602dab5cc6"
      },
      "execution_count": 50,
      "outputs": [
        {
          "output_type": "execute_result",
          "data": {
            "text/plain": [
              "                                                text  spam  Total Words  \\\n",
              "0  naturally irresistible your corporate identity...     1          324   \n",
              "1  the stock trading gunslinger  fanny is merrill...     1           89   \n",
              "2  unbelievable new homes made easy  im wanting t...     1           87   \n",
              "3  4 color printing special  request additional i...     1           98   \n",
              "4  do not have money , get software cds from here...     1           52   \n",
              "\n",
              "   Total Chars  \n",
              "0         1484  \n",
              "1          598  \n",
              "2          448  \n",
              "3          500  \n",
              "4          235  "
            ],
            "text/html": [
              "\n",
              "  <div id=\"df-ee4c61e8-b931-4a63-abb3-ecb1a35a0b13\">\n",
              "    <div class=\"colab-df-container\">\n",
              "      <div>\n",
              "<style scoped>\n",
              "    .dataframe tbody tr th:only-of-type {\n",
              "        vertical-align: middle;\n",
              "    }\n",
              "\n",
              "    .dataframe tbody tr th {\n",
              "        vertical-align: top;\n",
              "    }\n",
              "\n",
              "    .dataframe thead th {\n",
              "        text-align: right;\n",
              "    }\n",
              "</style>\n",
              "<table border=\"1\" class=\"dataframe\">\n",
              "  <thead>\n",
              "    <tr style=\"text-align: right;\">\n",
              "      <th></th>\n",
              "      <th>text</th>\n",
              "      <th>spam</th>\n",
              "      <th>Total Words</th>\n",
              "      <th>Total Chars</th>\n",
              "    </tr>\n",
              "  </thead>\n",
              "  <tbody>\n",
              "    <tr>\n",
              "      <th>0</th>\n",
              "      <td>naturally irresistible your corporate identity...</td>\n",
              "      <td>1</td>\n",
              "      <td>324</td>\n",
              "      <td>1484</td>\n",
              "    </tr>\n",
              "    <tr>\n",
              "      <th>1</th>\n",
              "      <td>the stock trading gunslinger  fanny is merrill...</td>\n",
              "      <td>1</td>\n",
              "      <td>89</td>\n",
              "      <td>598</td>\n",
              "    </tr>\n",
              "    <tr>\n",
              "      <th>2</th>\n",
              "      <td>unbelievable new homes made easy  im wanting t...</td>\n",
              "      <td>1</td>\n",
              "      <td>87</td>\n",
              "      <td>448</td>\n",
              "    </tr>\n",
              "    <tr>\n",
              "      <th>3</th>\n",
              "      <td>4 color printing special  request additional i...</td>\n",
              "      <td>1</td>\n",
              "      <td>98</td>\n",
              "      <td>500</td>\n",
              "    </tr>\n",
              "    <tr>\n",
              "      <th>4</th>\n",
              "      <td>do not have money , get software cds from here...</td>\n",
              "      <td>1</td>\n",
              "      <td>52</td>\n",
              "      <td>235</td>\n",
              "    </tr>\n",
              "  </tbody>\n",
              "</table>\n",
              "</div>\n",
              "      <button class=\"colab-df-convert\" onclick=\"convertToInteractive('df-ee4c61e8-b931-4a63-abb3-ecb1a35a0b13')\"\n",
              "              title=\"Convert this dataframe to an interactive table.\"\n",
              "              style=\"display:none;\">\n",
              "        \n",
              "  <svg xmlns=\"http://www.w3.org/2000/svg\" height=\"24px\"viewBox=\"0 0 24 24\"\n",
              "       width=\"24px\">\n",
              "    <path d=\"M0 0h24v24H0V0z\" fill=\"none\"/>\n",
              "    <path d=\"M18.56 5.44l.94 2.06.94-2.06 2.06-.94-2.06-.94-.94-2.06-.94 2.06-2.06.94zm-11 1L8.5 8.5l.94-2.06 2.06-.94-2.06-.94L8.5 2.5l-.94 2.06-2.06.94zm10 10l.94 2.06.94-2.06 2.06-.94-2.06-.94-.94-2.06-.94 2.06-2.06.94z\"/><path d=\"M17.41 7.96l-1.37-1.37c-.4-.4-.92-.59-1.43-.59-.52 0-1.04.2-1.43.59L10.3 9.45l-7.72 7.72c-.78.78-.78 2.05 0 2.83L4 21.41c.39.39.9.59 1.41.59.51 0 1.02-.2 1.41-.59l7.78-7.78 2.81-2.81c.8-.78.8-2.07 0-2.86zM5.41 20L4 18.59l7.72-7.72 1.47 1.35L5.41 20z\"/>\n",
              "  </svg>\n",
              "      </button>\n",
              "      \n",
              "  <style>\n",
              "    .colab-df-container {\n",
              "      display:flex;\n",
              "      flex-wrap:wrap;\n",
              "      gap: 12px;\n",
              "    }\n",
              "\n",
              "    .colab-df-convert {\n",
              "      background-color: #E8F0FE;\n",
              "      border: none;\n",
              "      border-radius: 50%;\n",
              "      cursor: pointer;\n",
              "      display: none;\n",
              "      fill: #1967D2;\n",
              "      height: 32px;\n",
              "      padding: 0 0 0 0;\n",
              "      width: 32px;\n",
              "    }\n",
              "\n",
              "    .colab-df-convert:hover {\n",
              "      background-color: #E2EBFA;\n",
              "      box-shadow: 0px 1px 2px rgba(60, 64, 67, 0.3), 0px 1px 3px 1px rgba(60, 64, 67, 0.15);\n",
              "      fill: #174EA6;\n",
              "    }\n",
              "\n",
              "    [theme=dark] .colab-df-convert {\n",
              "      background-color: #3B4455;\n",
              "      fill: #D2E3FC;\n",
              "    }\n",
              "\n",
              "    [theme=dark] .colab-df-convert:hover {\n",
              "      background-color: #434B5C;\n",
              "      box-shadow: 0px 1px 3px 1px rgba(0, 0, 0, 0.15);\n",
              "      filter: drop-shadow(0px 1px 2px rgba(0, 0, 0, 0.3));\n",
              "      fill: #FFFFFF;\n",
              "    }\n",
              "  </style>\n",
              "\n",
              "      <script>\n",
              "        const buttonEl =\n",
              "          document.querySelector('#df-ee4c61e8-b931-4a63-abb3-ecb1a35a0b13 button.colab-df-convert');\n",
              "        buttonEl.style.display =\n",
              "          google.colab.kernel.accessAllowed ? 'block' : 'none';\n",
              "\n",
              "        async function convertToInteractive(key) {\n",
              "          const element = document.querySelector('#df-ee4c61e8-b931-4a63-abb3-ecb1a35a0b13');\n",
              "          const dataTable =\n",
              "            await google.colab.kernel.invokeFunction('convertToInteractive',\n",
              "                                                     [key], {});\n",
              "          if (!dataTable) return;\n",
              "\n",
              "          const docLinkHtml = 'Like what you see? Visit the ' +\n",
              "            '<a target=\"_blank\" href=https://colab.research.google.com/notebooks/data_table.ipynb>data table notebook</a>'\n",
              "            + ' to learn more about interactive tables.';\n",
              "          element.innerHTML = '';\n",
              "          dataTable['output_type'] = 'display_data';\n",
              "          await google.colab.output.renderOutput(dataTable, element);\n",
              "          const docLink = document.createElement('div');\n",
              "          docLink.innerHTML = docLinkHtml;\n",
              "          element.appendChild(docLink);\n",
              "        }\n",
              "      </script>\n",
              "    </div>\n",
              "  </div>\n",
              "  "
            ]
          },
          "metadata": {},
          "execution_count": 50
        }
      ]
    },
    {
      "cell_type": "code",
      "source": [
        "data_set['text'] = data_set['text'].apply(lambda x: ' '.join(x.split(' ')[1:]))\n",
        "data_set.head()"
      ],
      "metadata": {
        "id": "F9OA9ObDzKa8",
        "colab": {
          "base_uri": "https://localhost:8080/",
          "height": 206
        },
        "outputId": "4345472b-6037-47f4-877a-d29ca4b3abb7"
      },
      "execution_count": 52,
      "outputs": [
        {
          "output_type": "execute_result",
          "data": {
            "text/plain": [
              "                                                text  spam  Total Words  \\\n",
              "0  your corporate identity  lt is really hard to ...     1          324   \n",
              "1  trading gunslinger  fanny is merrill but muzo ...     1           89   \n",
              "2  homes made easy  im wanting to show you this  ...     1           87   \n",
              "3  printing special  request additional informati...     1           98   \n",
              "4  have money , get software cds from here !  sof...     1           52   \n",
              "\n",
              "   Total Chars  \n",
              "0         1484  \n",
              "1          598  \n",
              "2          448  \n",
              "3          500  \n",
              "4          235  "
            ],
            "text/html": [
              "\n",
              "  <div id=\"df-fd84e7f0-2213-4b05-a314-15e03c9ed1c6\">\n",
              "    <div class=\"colab-df-container\">\n",
              "      <div>\n",
              "<style scoped>\n",
              "    .dataframe tbody tr th:only-of-type {\n",
              "        vertical-align: middle;\n",
              "    }\n",
              "\n",
              "    .dataframe tbody tr th {\n",
              "        vertical-align: top;\n",
              "    }\n",
              "\n",
              "    .dataframe thead th {\n",
              "        text-align: right;\n",
              "    }\n",
              "</style>\n",
              "<table border=\"1\" class=\"dataframe\">\n",
              "  <thead>\n",
              "    <tr style=\"text-align: right;\">\n",
              "      <th></th>\n",
              "      <th>text</th>\n",
              "      <th>spam</th>\n",
              "      <th>Total Words</th>\n",
              "      <th>Total Chars</th>\n",
              "    </tr>\n",
              "  </thead>\n",
              "  <tbody>\n",
              "    <tr>\n",
              "      <th>0</th>\n",
              "      <td>your corporate identity  lt is really hard to ...</td>\n",
              "      <td>1</td>\n",
              "      <td>324</td>\n",
              "      <td>1484</td>\n",
              "    </tr>\n",
              "    <tr>\n",
              "      <th>1</th>\n",
              "      <td>trading gunslinger  fanny is merrill but muzo ...</td>\n",
              "      <td>1</td>\n",
              "      <td>89</td>\n",
              "      <td>598</td>\n",
              "    </tr>\n",
              "    <tr>\n",
              "      <th>2</th>\n",
              "      <td>homes made easy  im wanting to show you this  ...</td>\n",
              "      <td>1</td>\n",
              "      <td>87</td>\n",
              "      <td>448</td>\n",
              "    </tr>\n",
              "    <tr>\n",
              "      <th>3</th>\n",
              "      <td>printing special  request additional informati...</td>\n",
              "      <td>1</td>\n",
              "      <td>98</td>\n",
              "      <td>500</td>\n",
              "    </tr>\n",
              "    <tr>\n",
              "      <th>4</th>\n",
              "      <td>have money , get software cds from here !  sof...</td>\n",
              "      <td>1</td>\n",
              "      <td>52</td>\n",
              "      <td>235</td>\n",
              "    </tr>\n",
              "  </tbody>\n",
              "</table>\n",
              "</div>\n",
              "      <button class=\"colab-df-convert\" onclick=\"convertToInteractive('df-fd84e7f0-2213-4b05-a314-15e03c9ed1c6')\"\n",
              "              title=\"Convert this dataframe to an interactive table.\"\n",
              "              style=\"display:none;\">\n",
              "        \n",
              "  <svg xmlns=\"http://www.w3.org/2000/svg\" height=\"24px\"viewBox=\"0 0 24 24\"\n",
              "       width=\"24px\">\n",
              "    <path d=\"M0 0h24v24H0V0z\" fill=\"none\"/>\n",
              "    <path d=\"M18.56 5.44l.94 2.06.94-2.06 2.06-.94-2.06-.94-.94-2.06-.94 2.06-2.06.94zm-11 1L8.5 8.5l.94-2.06 2.06-.94-2.06-.94L8.5 2.5l-.94 2.06-2.06.94zm10 10l.94 2.06.94-2.06 2.06-.94-2.06-.94-.94-2.06-.94 2.06-2.06.94z\"/><path d=\"M17.41 7.96l-1.37-1.37c-.4-.4-.92-.59-1.43-.59-.52 0-1.04.2-1.43.59L10.3 9.45l-7.72 7.72c-.78.78-.78 2.05 0 2.83L4 21.41c.39.39.9.59 1.41.59.51 0 1.02-.2 1.41-.59l7.78-7.78 2.81-2.81c.8-.78.8-2.07 0-2.86zM5.41 20L4 18.59l7.72-7.72 1.47 1.35L5.41 20z\"/>\n",
              "  </svg>\n",
              "      </button>\n",
              "      \n",
              "  <style>\n",
              "    .colab-df-container {\n",
              "      display:flex;\n",
              "      flex-wrap:wrap;\n",
              "      gap: 12px;\n",
              "    }\n",
              "\n",
              "    .colab-df-convert {\n",
              "      background-color: #E8F0FE;\n",
              "      border: none;\n",
              "      border-radius: 50%;\n",
              "      cursor: pointer;\n",
              "      display: none;\n",
              "      fill: #1967D2;\n",
              "      height: 32px;\n",
              "      padding: 0 0 0 0;\n",
              "      width: 32px;\n",
              "    }\n",
              "\n",
              "    .colab-df-convert:hover {\n",
              "      background-color: #E2EBFA;\n",
              "      box-shadow: 0px 1px 2px rgba(60, 64, 67, 0.3), 0px 1px 3px 1px rgba(60, 64, 67, 0.15);\n",
              "      fill: #174EA6;\n",
              "    }\n",
              "\n",
              "    [theme=dark] .colab-df-convert {\n",
              "      background-color: #3B4455;\n",
              "      fill: #D2E3FC;\n",
              "    }\n",
              "\n",
              "    [theme=dark] .colab-df-convert:hover {\n",
              "      background-color: #434B5C;\n",
              "      box-shadow: 0px 1px 3px 1px rgba(0, 0, 0, 0.15);\n",
              "      filter: drop-shadow(0px 1px 2px rgba(0, 0, 0, 0.3));\n",
              "      fill: #FFFFFF;\n",
              "    }\n",
              "  </style>\n",
              "\n",
              "      <script>\n",
              "        const buttonEl =\n",
              "          document.querySelector('#df-fd84e7f0-2213-4b05-a314-15e03c9ed1c6 button.colab-df-convert');\n",
              "        buttonEl.style.display =\n",
              "          google.colab.kernel.accessAllowed ? 'block' : 'none';\n",
              "\n",
              "        async function convertToInteractive(key) {\n",
              "          const element = document.querySelector('#df-fd84e7f0-2213-4b05-a314-15e03c9ed1c6');\n",
              "          const dataTable =\n",
              "            await google.colab.kernel.invokeFunction('convertToInteractive',\n",
              "                                                     [key], {});\n",
              "          if (!dataTable) return;\n",
              "\n",
              "          const docLinkHtml = 'Like what you see? Visit the ' +\n",
              "            '<a target=\"_blank\" href=https://colab.research.google.com/notebooks/data_table.ipynb>data table notebook</a>'\n",
              "            + ' to learn more about interactive tables.';\n",
              "          element.innerHTML = '';\n",
              "          dataTable['output_type'] = 'display_data';\n",
              "          await google.colab.output.renderOutput(dataTable, element);\n",
              "          const docLink = document.createElement('div');\n",
              "          docLink.innerHTML = docLinkHtml;\n",
              "          element.appendChild(docLink);\n",
              "        }\n",
              "      </script>\n",
              "    </div>\n",
              "  </div>\n",
              "  "
            ]
          },
          "metadata": {},
          "execution_count": 52
        }
      ]
    },
    {
      "cell_type": "markdown",
      "source": [
        "The above snippet removes the word 'subject' from the text."
      ],
      "metadata": {
        "id": "nfETXJmi3HcQ"
      }
    },
    {
      "cell_type": "markdown",
      "source": [
        "Problem 2.1 -Preparing the Corpus \n",
        "\n",
        "Follow the standard steps to build and pre-process the corpus: \n",
        "\n",
        "1) Build a new corpus variable called corpus. \n",
        "\n",
        "2) Using tm_map, convert the text to lowercase. \n",
        "\n",
        "3) Using tm_map, remove all punctuation from the corpus. \n",
        "\n",
        "4) Using tm_map, remove all English stopwords from the corpus. \n",
        "\n",
        "5) Using tm_map, stem the words in the corpus. \n",
        "\n",
        "6) Build a document term matrix from the corpus, called dtm. \n",
        "\n"
      ],
      "metadata": {
        "id": "_wWX7QSX3VTU"
      }
    },
    {
      "cell_type": "code",
      "source": [
        "import re\n",
        "import nltk\n",
        "from nltk.corpus import stopwords\n",
        "from nltk.stem.porter import PorterStemmer\n",
        "#Every mail starts with 'Subject :' will remove this from each text \n",
        "\n",
        "data_set['text']=data_set['text'].map(lambda text: text[1:])\n",
        "data_set['text'] = data_set['text'].map(lambda text:re.sub('[^a-zA-Z0-9]+', ' ',text)).apply(lambda x: (x.lower()).split())\n",
        "ps = PorterStemmer()\n",
        "corpus=data_set['text'].apply(lambda text_list:' '.join(list(map(lambda word:ps.stem(word),(list(filter(lambda text:text not in set(stopwords.words('english')),text_list)))))))\n",
        "\n",
        "# Creating the Bag of Words model"
      ],
      "metadata": {
        "id": "UPPakaXaIrdi"
      },
      "execution_count": 17,
      "outputs": []
    },
    {
      "cell_type": "code",
      "source": [
        "data_set['corpuss']=corpus\n",
        "data_set.head()"
      ],
      "metadata": {
        "id": "Efj7vUNdMv8X",
        "colab": {
          "base_uri": "https://localhost:8080/",
          "height": 206
        },
        "outputId": "4a3c6523-7b46-4a30-a19b-6dc6527d294e"
      },
      "execution_count": 54,
      "outputs": [
        {
          "output_type": "execute_result",
          "data": {
            "text/plain": [
              "                                                text  spam  Total Words  \\\n",
              "0  your corporate identity  lt is really hard to ...     1          324   \n",
              "1  trading gunslinger  fanny is merrill but muzo ...     1           89   \n",
              "2  homes made easy  im wanting to show you this  ...     1           87   \n",
              "3  printing special  request additional informati...     1           98   \n",
              "4  have money , get software cds from here !  sof...     1           52   \n",
              "\n",
              "   Total Chars                                            corpuss  \n",
              "0         1484  atur irresist corpor ident lt realli hard reco...  \n",
              "1          598  stock trade gunsling fanni merril muzo colza a...  \n",
              "2          448  nbeliev new home made easi im want show homeow...  \n",
              "3          500  color print special request addit inform click...  \n",
              "4          235  money get softwar cd softwar compat great grow...  "
            ],
            "text/html": [
              "\n",
              "  <div id=\"df-c2e64371-96bb-494c-97a3-812b9fe5eac1\">\n",
              "    <div class=\"colab-df-container\">\n",
              "      <div>\n",
              "<style scoped>\n",
              "    .dataframe tbody tr th:only-of-type {\n",
              "        vertical-align: middle;\n",
              "    }\n",
              "\n",
              "    .dataframe tbody tr th {\n",
              "        vertical-align: top;\n",
              "    }\n",
              "\n",
              "    .dataframe thead th {\n",
              "        text-align: right;\n",
              "    }\n",
              "</style>\n",
              "<table border=\"1\" class=\"dataframe\">\n",
              "  <thead>\n",
              "    <tr style=\"text-align: right;\">\n",
              "      <th></th>\n",
              "      <th>text</th>\n",
              "      <th>spam</th>\n",
              "      <th>Total Words</th>\n",
              "      <th>Total Chars</th>\n",
              "      <th>corpuss</th>\n",
              "    </tr>\n",
              "  </thead>\n",
              "  <tbody>\n",
              "    <tr>\n",
              "      <th>0</th>\n",
              "      <td>your corporate identity  lt is really hard to ...</td>\n",
              "      <td>1</td>\n",
              "      <td>324</td>\n",
              "      <td>1484</td>\n",
              "      <td>atur irresist corpor ident lt realli hard reco...</td>\n",
              "    </tr>\n",
              "    <tr>\n",
              "      <th>1</th>\n",
              "      <td>trading gunslinger  fanny is merrill but muzo ...</td>\n",
              "      <td>1</td>\n",
              "      <td>89</td>\n",
              "      <td>598</td>\n",
              "      <td>stock trade gunsling fanni merril muzo colza a...</td>\n",
              "    </tr>\n",
              "    <tr>\n",
              "      <th>2</th>\n",
              "      <td>homes made easy  im wanting to show you this  ...</td>\n",
              "      <td>1</td>\n",
              "      <td>87</td>\n",
              "      <td>448</td>\n",
              "      <td>nbeliev new home made easi im want show homeow...</td>\n",
              "    </tr>\n",
              "    <tr>\n",
              "      <th>3</th>\n",
              "      <td>printing special  request additional informati...</td>\n",
              "      <td>1</td>\n",
              "      <td>98</td>\n",
              "      <td>500</td>\n",
              "      <td>color print special request addit inform click...</td>\n",
              "    </tr>\n",
              "    <tr>\n",
              "      <th>4</th>\n",
              "      <td>have money , get software cds from here !  sof...</td>\n",
              "      <td>1</td>\n",
              "      <td>52</td>\n",
              "      <td>235</td>\n",
              "      <td>money get softwar cd softwar compat great grow...</td>\n",
              "    </tr>\n",
              "  </tbody>\n",
              "</table>\n",
              "</div>\n",
              "      <button class=\"colab-df-convert\" onclick=\"convertToInteractive('df-c2e64371-96bb-494c-97a3-812b9fe5eac1')\"\n",
              "              title=\"Convert this dataframe to an interactive table.\"\n",
              "              style=\"display:none;\">\n",
              "        \n",
              "  <svg xmlns=\"http://www.w3.org/2000/svg\" height=\"24px\"viewBox=\"0 0 24 24\"\n",
              "       width=\"24px\">\n",
              "    <path d=\"M0 0h24v24H0V0z\" fill=\"none\"/>\n",
              "    <path d=\"M18.56 5.44l.94 2.06.94-2.06 2.06-.94-2.06-.94-.94-2.06-.94 2.06-2.06.94zm-11 1L8.5 8.5l.94-2.06 2.06-.94-2.06-.94L8.5 2.5l-.94 2.06-2.06.94zm10 10l.94 2.06.94-2.06 2.06-.94-2.06-.94-.94-2.06-.94 2.06-2.06.94z\"/><path d=\"M17.41 7.96l-1.37-1.37c-.4-.4-.92-.59-1.43-.59-.52 0-1.04.2-1.43.59L10.3 9.45l-7.72 7.72c-.78.78-.78 2.05 0 2.83L4 21.41c.39.39.9.59 1.41.59.51 0 1.02-.2 1.41-.59l7.78-7.78 2.81-2.81c.8-.78.8-2.07 0-2.86zM5.41 20L4 18.59l7.72-7.72 1.47 1.35L5.41 20z\"/>\n",
              "  </svg>\n",
              "      </button>\n",
              "      \n",
              "  <style>\n",
              "    .colab-df-container {\n",
              "      display:flex;\n",
              "      flex-wrap:wrap;\n",
              "      gap: 12px;\n",
              "    }\n",
              "\n",
              "    .colab-df-convert {\n",
              "      background-color: #E8F0FE;\n",
              "      border: none;\n",
              "      border-radius: 50%;\n",
              "      cursor: pointer;\n",
              "      display: none;\n",
              "      fill: #1967D2;\n",
              "      height: 32px;\n",
              "      padding: 0 0 0 0;\n",
              "      width: 32px;\n",
              "    }\n",
              "\n",
              "    .colab-df-convert:hover {\n",
              "      background-color: #E2EBFA;\n",
              "      box-shadow: 0px 1px 2px rgba(60, 64, 67, 0.3), 0px 1px 3px 1px rgba(60, 64, 67, 0.15);\n",
              "      fill: #174EA6;\n",
              "    }\n",
              "\n",
              "    [theme=dark] .colab-df-convert {\n",
              "      background-color: #3B4455;\n",
              "      fill: #D2E3FC;\n",
              "    }\n",
              "\n",
              "    [theme=dark] .colab-df-convert:hover {\n",
              "      background-color: #434B5C;\n",
              "      box-shadow: 0px 1px 3px 1px rgba(0, 0, 0, 0.15);\n",
              "      filter: drop-shadow(0px 1px 2px rgba(0, 0, 0, 0.3));\n",
              "      fill: #FFFFFF;\n",
              "    }\n",
              "  </style>\n",
              "\n",
              "      <script>\n",
              "        const buttonEl =\n",
              "          document.querySelector('#df-c2e64371-96bb-494c-97a3-812b9fe5eac1 button.colab-df-convert');\n",
              "        buttonEl.style.display =\n",
              "          google.colab.kernel.accessAllowed ? 'block' : 'none';\n",
              "\n",
              "        async function convertToInteractive(key) {\n",
              "          const element = document.querySelector('#df-c2e64371-96bb-494c-97a3-812b9fe5eac1');\n",
              "          const dataTable =\n",
              "            await google.colab.kernel.invokeFunction('convertToInteractive',\n",
              "                                                     [key], {});\n",
              "          if (!dataTable) return;\n",
              "\n",
              "          const docLinkHtml = 'Like what you see? Visit the ' +\n",
              "            '<a target=\"_blank\" href=https://colab.research.google.com/notebooks/data_table.ipynb>data table notebook</a>'\n",
              "            + ' to learn more about interactive tables.';\n",
              "          element.innerHTML = '';\n",
              "          dataTable['output_type'] = 'display_data';\n",
              "          await google.colab.output.renderOutput(dataTable, element);\n",
              "          const docLink = document.createElement('div');\n",
              "          docLink.innerHTML = docLinkHtml;\n",
              "          element.appendChild(docLink);\n",
              "        }\n",
              "      </script>\n",
              "    </div>\n",
              "  </div>\n",
              "  "
            ]
          },
          "metadata": {},
          "execution_count": 54
        }
      ]
    },
    {
      "cell_type": "code",
      "source": [
        "from nltk.corpus import stopwords\n",
        "\n",
        "# Make a list of english stopwords\n",
        "stopwords = nltk.corpus.stopwords.words(\"english\")\n",
        "\n",
        "print(len(stopwords))"
      ],
      "metadata": {
        "colab": {
          "base_uri": "https://localhost:8080/"
        },
        "id": "O9KzYkHPwypz",
        "outputId": "2305ab0a-a335-4629-eacc-32c6f4e7205b"
      },
      "execution_count": 19,
      "outputs": [
        {
          "output_type": "stream",
          "name": "stdout",
          "text": [
            "179\n"
          ]
        }
      ]
    },
    {
      "cell_type": "code",
      "source": [
        "print(corpus)"
      ],
      "metadata": {
        "colab": {
          "base_uri": "https://localhost:8080/"
        },
        "id": "R148-P-j0FDc",
        "outputId": "43e95f50-a421-42fe-a9f8-a7ff9d7f408d"
      },
      "execution_count": 20,
      "outputs": [
        {
          "output_type": "stream",
          "name": "stdout",
          "text": [
            "0       atur irresist corpor ident lt realli hard reco...\n",
            "1       stock trade gunsling fanni merril muzo colza a...\n",
            "2       nbeliev new home made easi im want show homeow...\n",
            "3       color print special request addit inform click...\n",
            "4       money get softwar cd softwar compat great grow...\n",
            "                              ...                        \n",
            "5723    e research develop charg gpg forward shirley c...\n",
            "5724    e receipt visit jim thank invit visit lsu shir...\n",
            "5725    e enron case studi updat wow day super thank m...\n",
            "5726    e interest david pleas call shirley crenshaw a...\n",
            "5727    ew aurora 5 2 updat aurora version 5 2 fastest...\n",
            "Name: text, Length: 5728, dtype: object\n"
          ]
        }
      ]
    },
    {
      "cell_type": "code",
      "source": [
        "count=0\n",
        "for i in range(5728):\n",
        "    count=count+len(corpus[i].split())\n",
        "print(count)"
      ],
      "metadata": {
        "colab": {
          "base_uri": "https://localhost:8080/"
        },
        "id": "1IBaBlQuwyA_",
        "outputId": "ba9766f5-e10a-4175-af28-e831ee770f67"
      },
      "execution_count": 21,
      "outputs": [
        {
          "output_type": "stream",
          "name": "stdout",
          "text": [
            "878314\n"
          ]
        }
      ]
    },
    {
      "cell_type": "code",
      "source": [
        "corpus1 = pd.DataFrame()\n",
        "corpus1['text']=data_set['corpuss']\n",
        "corpus1.head()"
      ],
      "metadata": {
        "colab": {
          "base_uri": "https://localhost:8080/",
          "height": 206
        },
        "id": "xL2_qdC8hc-5",
        "outputId": "d80b052e-a9ba-4d9e-b67b-c826c9b58d15"
      },
      "execution_count": 56,
      "outputs": [
        {
          "output_type": "execute_result",
          "data": {
            "text/plain": [
              "                                                text\n",
              "0  atur irresist corpor ident lt realli hard reco...\n",
              "1  stock trade gunsling fanni merril muzo colza a...\n",
              "2  nbeliev new home made easi im want show homeow...\n",
              "3  color print special request addit inform click...\n",
              "4  money get softwar cd softwar compat great grow..."
            ],
            "text/html": [
              "\n",
              "  <div id=\"df-d8a3cd4f-9abd-4f3c-9ea6-88efa60ae0e0\">\n",
              "    <div class=\"colab-df-container\">\n",
              "      <div>\n",
              "<style scoped>\n",
              "    .dataframe tbody tr th:only-of-type {\n",
              "        vertical-align: middle;\n",
              "    }\n",
              "\n",
              "    .dataframe tbody tr th {\n",
              "        vertical-align: top;\n",
              "    }\n",
              "\n",
              "    .dataframe thead th {\n",
              "        text-align: right;\n",
              "    }\n",
              "</style>\n",
              "<table border=\"1\" class=\"dataframe\">\n",
              "  <thead>\n",
              "    <tr style=\"text-align: right;\">\n",
              "      <th></th>\n",
              "      <th>text</th>\n",
              "    </tr>\n",
              "  </thead>\n",
              "  <tbody>\n",
              "    <tr>\n",
              "      <th>0</th>\n",
              "      <td>atur irresist corpor ident lt realli hard reco...</td>\n",
              "    </tr>\n",
              "    <tr>\n",
              "      <th>1</th>\n",
              "      <td>stock trade gunsling fanni merril muzo colza a...</td>\n",
              "    </tr>\n",
              "    <tr>\n",
              "      <th>2</th>\n",
              "      <td>nbeliev new home made easi im want show homeow...</td>\n",
              "    </tr>\n",
              "    <tr>\n",
              "      <th>3</th>\n",
              "      <td>color print special request addit inform click...</td>\n",
              "    </tr>\n",
              "    <tr>\n",
              "      <th>4</th>\n",
              "      <td>money get softwar cd softwar compat great grow...</td>\n",
              "    </tr>\n",
              "  </tbody>\n",
              "</table>\n",
              "</div>\n",
              "      <button class=\"colab-df-convert\" onclick=\"convertToInteractive('df-d8a3cd4f-9abd-4f3c-9ea6-88efa60ae0e0')\"\n",
              "              title=\"Convert this dataframe to an interactive table.\"\n",
              "              style=\"display:none;\">\n",
              "        \n",
              "  <svg xmlns=\"http://www.w3.org/2000/svg\" height=\"24px\"viewBox=\"0 0 24 24\"\n",
              "       width=\"24px\">\n",
              "    <path d=\"M0 0h24v24H0V0z\" fill=\"none\"/>\n",
              "    <path d=\"M18.56 5.44l.94 2.06.94-2.06 2.06-.94-2.06-.94-.94-2.06-.94 2.06-2.06.94zm-11 1L8.5 8.5l.94-2.06 2.06-.94-2.06-.94L8.5 2.5l-.94 2.06-2.06.94zm10 10l.94 2.06.94-2.06 2.06-.94-2.06-.94-.94-2.06-.94 2.06-2.06.94z\"/><path d=\"M17.41 7.96l-1.37-1.37c-.4-.4-.92-.59-1.43-.59-.52 0-1.04.2-1.43.59L10.3 9.45l-7.72 7.72c-.78.78-.78 2.05 0 2.83L4 21.41c.39.39.9.59 1.41.59.51 0 1.02-.2 1.41-.59l7.78-7.78 2.81-2.81c.8-.78.8-2.07 0-2.86zM5.41 20L4 18.59l7.72-7.72 1.47 1.35L5.41 20z\"/>\n",
              "  </svg>\n",
              "      </button>\n",
              "      \n",
              "  <style>\n",
              "    .colab-df-container {\n",
              "      display:flex;\n",
              "      flex-wrap:wrap;\n",
              "      gap: 12px;\n",
              "    }\n",
              "\n",
              "    .colab-df-convert {\n",
              "      background-color: #E8F0FE;\n",
              "      border: none;\n",
              "      border-radius: 50%;\n",
              "      cursor: pointer;\n",
              "      display: none;\n",
              "      fill: #1967D2;\n",
              "      height: 32px;\n",
              "      padding: 0 0 0 0;\n",
              "      width: 32px;\n",
              "    }\n",
              "\n",
              "    .colab-df-convert:hover {\n",
              "      background-color: #E2EBFA;\n",
              "      box-shadow: 0px 1px 2px rgba(60, 64, 67, 0.3), 0px 1px 3px 1px rgba(60, 64, 67, 0.15);\n",
              "      fill: #174EA6;\n",
              "    }\n",
              "\n",
              "    [theme=dark] .colab-df-convert {\n",
              "      background-color: #3B4455;\n",
              "      fill: #D2E3FC;\n",
              "    }\n",
              "\n",
              "    [theme=dark] .colab-df-convert:hover {\n",
              "      background-color: #434B5C;\n",
              "      box-shadow: 0px 1px 3px 1px rgba(0, 0, 0, 0.15);\n",
              "      filter: drop-shadow(0px 1px 2px rgba(0, 0, 0, 0.3));\n",
              "      fill: #FFFFFF;\n",
              "    }\n",
              "  </style>\n",
              "\n",
              "      <script>\n",
              "        const buttonEl =\n",
              "          document.querySelector('#df-d8a3cd4f-9abd-4f3c-9ea6-88efa60ae0e0 button.colab-df-convert');\n",
              "        buttonEl.style.display =\n",
              "          google.colab.kernel.accessAllowed ? 'block' : 'none';\n",
              "\n",
              "        async function convertToInteractive(key) {\n",
              "          const element = document.querySelector('#df-d8a3cd4f-9abd-4f3c-9ea6-88efa60ae0e0');\n",
              "          const dataTable =\n",
              "            await google.colab.kernel.invokeFunction('convertToInteractive',\n",
              "                                                     [key], {});\n",
              "          if (!dataTable) return;\n",
              "\n",
              "          const docLinkHtml = 'Like what you see? Visit the ' +\n",
              "            '<a target=\"_blank\" href=https://colab.research.google.com/notebooks/data_table.ipynb>data table notebook</a>'\n",
              "            + ' to learn more about interactive tables.';\n",
              "          element.innerHTML = '';\n",
              "          dataTable['output_type'] = 'display_data';\n",
              "          await google.colab.output.renderOutput(dataTable, element);\n",
              "          const docLink = document.createElement('div');\n",
              "          docLink.innerHTML = docLinkHtml;\n",
              "          element.appendChild(docLink);\n",
              "        }\n",
              "      </script>\n",
              "    </div>\n",
              "  </div>\n",
              "  "
            ]
          },
          "metadata": {},
          "execution_count": 56
        }
      ]
    },
    {
      "cell_type": "code",
      "source": [
        "from sklearn.feature_extraction.text import CountVectorizer\n",
        "vec = CountVectorizer()\n",
        "dtm  = vec.fit_transform(corpus1['text'])"
      ],
      "metadata": {
        "id": "lhiD1CRFh0MQ"
      },
      "execution_count": 63,
      "outputs": []
    },
    {
      "cell_type": "markdown",
      "source": [
        "Creating the document term matrix"
      ],
      "metadata": {
        "id": "xd47yjIQjrFH"
      }
    },
    {
      "cell_type": "code",
      "source": [
        "# Select the first five rows from the data set\n",
        "td = pd.DataFrame(dtm.todense()).iloc[:5]  \n",
        "td.columns = vec.get_feature_names()\n",
        "term_document_matrix = td.T\n",
        "term_document_matrix.columns = ['Doc '+str(i) for i in range(1, 6)]\n",
        "term_document_matrix['total_count'] = term_document_matrix.sum(axis=1)\n",
        "\n",
        "# Top 25 words \n",
        "term_document_matrix = term_document_matrix.sort_values(by ='total_count',ascending=False)[:25] \n",
        "\n",
        "# Print the first 10 rows \n",
        "print(term_document_matrix.drop(columns=['total_count']).head(10))"
      ],
      "metadata": {
        "colab": {
          "base_uri": "https://localhost:8080/"
        },
        "id": "8xpFWebih67v",
        "outputId": "664a5d8e-97b0-488f-8e5a-34dac61991e7"
      },
      "execution_count": 66,
      "outputs": [
        {
          "output_type": "stream",
          "name": "stdout",
          "text": [
            "         Doc 1  Doc 2  Doc 3  Doc 4  Doc 5\n",
            "click        0      0      0      4      0\n",
            "market       4      0      0      0      0\n",
            "logo         4      0      0      0      0\n",
            "tri          0      3      0      0      0\n",
            "like         0      3      0      0      0\n",
            "compani      3      0      0      0      0\n",
            "format       1      0      0      2      0\n",
            "inform       1      0      0      2      0\n",
            "order        1      0      0      2      0\n",
            "form         0      0      1      2      0\n"
          ]
        },
        {
          "output_type": "stream",
          "name": "stderr",
          "text": [
            "/usr/local/lib/python3.8/dist-packages/sklearn/utils/deprecation.py:87: FutureWarning: Function get_feature_names is deprecated; get_feature_names is deprecated in 1.0 and will be removed in 1.2. Please use get_feature_names_out instead.\n",
            "  warnings.warn(msg, category=FutureWarning)\n"
          ]
        }
      ]
    },
    {
      "cell_type": "code",
      "source": [
        "print(f'No of terms in the document term matrix is {dtm.shape[1]}')"
      ],
      "metadata": {
        "colab": {
          "base_uri": "https://localhost:8080/"
        },
        "id": "tohnN9fMimKK",
        "outputId": "b6fcceeb-d54a-426b-b10b-cd29c8c3b55e"
      },
      "execution_count": 67,
      "outputs": [
        {
          "output_type": "stream",
          "name": "stdout",
          "text": [
            "No of terms in the document term matrix is 29914\n"
          ]
        }
      ]
    },
    {
      "cell_type": "markdown",
      "source": [
        "How many terms are in dtm?  \n",
        "\n",
        "There are 29914 terms in dtm"
      ],
      "metadata": {
        "id": "OBtL6XXF0oXe"
      }
    },
    {
      "cell_type": "code",
      "source": [
        "five_percent_vectorizer = CountVectorizer(min_df = 0.05)\n",
        "five_percent_document_term_matrix = five_percent_vectorizer.fit_transform(corpus1['text'])\n",
        "\n",
        "print(f'No of terms in the the five percent document term matrix is {five_percent_document_term_matrix.shape[1]}')"
      ],
      "metadata": {
        "colab": {
          "base_uri": "https://localhost:8080/"
        },
        "id": "ILvKrIhZit9t",
        "outputId": "42fbdb51-9217-4789-a52b-e98e1d4b01b3"
      },
      "execution_count": 69,
      "outputs": [
        {
          "output_type": "stream",
          "name": "stdout",
          "text": [
            "No of terms in the the five percent document term matrix is 367\n"
          ]
        }
      ]
    },
    {
      "cell_type": "markdown",
      "source": [
        "Considering only 5% of the terms in document term matrix we have 367 words."
      ],
      "metadata": {
        "id": "mQvaG8jfi2Wa"
      }
    },
    {
      "cell_type": "markdown",
      "source": [
        "How many terms are in spdtm?\n",
        "There are 367 words in spdtm."
      ],
      "metadata": {
        "id": "lQbz3wJCi_wq"
      }
    },
    {
      "cell_type": "markdown",
      "source": [
        "# Building the model"
      ],
      "metadata": {
        "id": "UvfkHMWVjli7"
      }
    },
    {
      "cell_type": "code",
      "source": [
        "from sklearn.feature_extraction.text import CountVectorizer\n",
        "cv = CountVectorizer()\n",
        "X = cv.fit_transform(corpus.values).toarray()\n",
        "y = data_set.iloc[:, 1].values\n"
      ],
      "metadata": {
        "id": "DhGmDhozNAHq"
      },
      "execution_count": 22,
      "outputs": []
    },
    {
      "cell_type": "markdown",
      "source": [
        "The above snippet vectorises the text from the dataset"
      ],
      "metadata": {
        "id": "5vXXv2PG3jwt"
      }
    },
    {
      "cell_type": "code",
      "source": [
        "from sklearn.model_selection import train_test_split\n",
        "from sklearn.tree import DecisionTreeClassifier\n",
        "X_train, X_test, y_train, y_test = train_test_split( \n",
        "          X,y, test_size = 0.3, random_state = 100)"
      ],
      "metadata": {
        "id": "jrvx9rSYTYP4"
      },
      "execution_count": 70,
      "outputs": []
    },
    {
      "cell_type": "code",
      "source": [
        "spamCART = DecisionTreeClassifier()\n",
        "\n",
        "# Train Decision Tree Classifer\n",
        "spamCART = spamCART.fit(X_train,y_train)\n",
        "spamtrain=spamCART.predict(X_train)\n",
        "#Predict the response for test dataset\n",
        "y_pred =  spamCART.predict(X_test)"
      ],
      "metadata": {
        "id": "FLUBhiygUWmm"
      },
      "execution_count": 71,
      "outputs": []
    },
    {
      "cell_type": "markdown",
      "source": [
        "The above snippet applies descison tree classifier to the dataset"
      ],
      "metadata": {
        "id": "ALxmkwGK3sef"
      }
    },
    {
      "cell_type": "code",
      "source": [
        "#CART train metrics\n",
        "from sklearn.metrics import accuracy_score, precision_score, recall_score,f1_score\n",
        "\n",
        "print('Accuracy score: ', accuracy_score(y_train, spamtrain))\n",
        "print('Precision score: ', precision_score(y_train, spamtrain))\n",
        "print('Recall score: ', recall_score(y_train, spamtrain))\n",
        "print(\"F1 score: \",f1_score(y_train,spamtrain))"
      ],
      "metadata": {
        "id": "m5ywyaEd4bY6",
        "colab": {
          "base_uri": "https://localhost:8080/"
        },
        "outputId": "b5211a70-30b7-4d9c-99a6-7f3ffdd027ee"
      },
      "execution_count": 72,
      "outputs": [
        {
          "output_type": "stream",
          "name": "stdout",
          "text": [
            "Accuracy score:  1.0\n",
            "Precision score:  1.0\n",
            "Recall score:  1.0\n",
            "F1 score:  1.0\n"
          ]
        }
      ]
    },
    {
      "cell_type": "markdown",
      "source": [
        "Sklearn uses a default threshold of 0.5 for predictions."
      ],
      "metadata": {
        "id": "IEyY9PH24i9u"
      }
    },
    {
      "cell_type": "markdown",
      "source": [
        "What is the training set accuracy of spamCART, using a threshold of 0.5 for predictions? \n",
        "\n",
        "\n",
        "The accuracy is 100% for training set in CART"
      ],
      "metadata": {
        "id": "JA0D-UUE8yVK"
      }
    },
    {
      "cell_type": "code",
      "source": [
        "from sklearn.ensemble import RandomForestClassifier\n",
        "  \n",
        " # create regressor object\n",
        "spamRF = RandomForestClassifier(n_estimators = 100, random_state = 0)\n",
        "  \n",
        "# fit the regressor with x and y data\n",
        "spamRF=spamRF.fit(X_train,y_train)  \n",
        "spamRFtrain=spamRF.predict(X_train)"
      ],
      "metadata": {
        "id": "_I8Hh0DS-Kha"
      },
      "execution_count": 73,
      "outputs": []
    },
    {
      "cell_type": "markdown",
      "source": [
        "The above snippet applies Random Forest classifier to the dataset\n",
        "\n",
        "\n"
      ],
      "metadata": {
        "id": "6n5bMhPn35kJ"
      }
    },
    {
      "cell_type": "code",
      "source": [
        "y_pred1 = spamRF.predict(X_test)"
      ],
      "metadata": {
        "id": "GQBQwOD9VQSm"
      },
      "execution_count": 74,
      "outputs": []
    },
    {
      "cell_type": "code",
      "source": [
        "#train accuracy for Spam RF\n",
        "\n",
        "from sklearn.metrics import accuracy_score, precision_score, recall_score,f1_score\n",
        "\n",
        "print('Accuracy score: ', accuracy_score(y_train, spamRFtrain))\n",
        "print('Precision score: ', precision_score(y_train, spamRFtrain))\n",
        "print('Recall score: ', recall_score(y_train, spamRFtrain))\n",
        "print(\"F1 score: \",f1_score(y_train,spamRFtrain))"
      ],
      "metadata": {
        "id": "uvnfeijh5gEJ",
        "colab": {
          "base_uri": "https://localhost:8080/"
        },
        "outputId": "1faa25b9-e5e9-4bfc-f279-50b169c82314"
      },
      "execution_count": 75,
      "outputs": [
        {
          "output_type": "stream",
          "name": "stdout",
          "text": [
            "Accuracy score:  1.0\n",
            "Precision score:  1.0\n",
            "Recall score:  1.0\n",
            "F1 score:  1.0\n"
          ]
        }
      ]
    },
    {
      "cell_type": "markdown",
      "source": [
        "What is the training set accuracy of spamRF, using a threshold of 0.5 for predictions? (Remember that \n",
        "your answer might not match ours exactly, due to random behavior in the random forest algorithm on \n",
        "different operating systems.) \n",
        "\n",
        "The accuracy is 100% for Random Forest"
      ],
      "metadata": {
        "id": "Zo1ZLWhU89F5"
      }
    },
    {
      "cell_type": "code",
      "source": [
        "from sklearn import metrics\n",
        "import numpy as np\n",
        "import matplotlib.pyplot as plt\n",
        "fpr, tpr, _ = metrics.roc_curve(y_train,  spamtrain)\n",
        "auc = round(metrics.roc_auc_score(y_train,  spamtrain), 4)\n",
        "plt.plot(fpr,tpr,label=\"CART, AUC=\"+str(auc))\n",
        "\n",
        "fpr, tpr, _ = metrics.roc_curve(y_train, spamRFtrain)\n",
        "auc = round(metrics.roc_auc_score(y_train, spamRFtrain), 4)\n",
        "plt.plot(fpr,tpr,label=\"Random Forest, AUC=\"+str(auc))\n",
        "\n",
        "#add legend\n",
        "plt.legend()"
      ],
      "metadata": {
        "id": "3ICvntt851nW",
        "colab": {
          "base_uri": "https://localhost:8080/",
          "height": 290
        },
        "outputId": "6881bfa6-a32d-4bd8-e14d-e372f1e1625f"
      },
      "execution_count": 76,
      "outputs": [
        {
          "output_type": "execute_result",
          "data": {
            "text/plain": [
              "<matplotlib.legend.Legend at 0x7f0e68e137f0>"
            ]
          },
          "metadata": {},
          "execution_count": 76
        },
        {
          "output_type": "display_data",
          "data": {
            "text/plain": [
              "<Figure size 432x288 with 1 Axes>"
            ],
            "image/png": "[encoded data removed]"
          },
          "metadata": {
            "needs_background": "light"
          }
        }
      ]
    },
    {
      "cell_type": "markdown",
      "source": [
        "What is the training set AUC of spamCART? \n",
        "What is the training set AUC of spamRF? \n",
        "\n",
        "The AUC for both the models is 100% in training set"
      ],
      "metadata": {
        "id": "1PHkjE4R9NtI"
      }
    },
    {
      "cell_type": "code",
      "source": [
        "from sklearn import tree\n",
        "tree.plot_tree(spamCART)"
      ],
      "metadata": {
        "id": "EVdeJ91S6UDp",
        "colab": {
          "base_uri": "https://localhost:8080/",
          "height": 1000
        },
        "outputId": "fc866af5-790d-4f92-ba26-e4d122cbb5cc"
      },
      "execution_count": 30,
      "outputs": [
        {
          "output_type": "execute_result",
          "data": {
            "text/plain": [
              "[Text(0.9114795918367347, 0.9924242424242424, 'X[28407] <= 0.5\\ngini = 0.357\\nsamples = 4009\\nvalue = [3075, 934]'),\n",
              " Text(0.9033163265306122, 0.9772727272727273, 'X[10912] <= 0.5\\ngini = 0.494\\nsamples = 2097\\nvalue = [1163, 934]'),\n",
              " Text(0.8951530612244898, 0.9621212121212122, 'X[5133] <= 0.5\\ngini = 0.481\\nsamples = 1566\\nvalue = [632, 934]'),\n",
              " Text(0.8066326530612244, 0.946969696969697, 'X[26664] <= 0.5\\ngini = 0.453\\nsamples = 1409\\nvalue = [489, 920]'),\n",
              " Text(0.713265306122449, 0.9318181818181818, 'X[18335] <= 0.5\\ngini = 0.393\\nsamples = 1142\\nvalue = [307, 835]'),\n",
              " Text(0.6510204081632653, 0.9166666666666666, 'X[902] <= 0.5\\ngini = 0.357\\nsamples = 1076\\nvalue = [250, 826]'),\n",
              " Text(0.6122448979591837, 0.9015151515151515, 'X[10839] <= 0.5\\ngini = 0.316\\nsamples = 1011\\nvalue = [199, 812]'),\n",
              " Text(0.5836734693877551, 0.8863636363636364, 'X[26344] <= 0.5\\ngini = 0.287\\nsamples = 974\\nvalue = [169, 805]'),\n",
              " Text(0.5755102040816327, 0.8712121212121212, 'X[2774] <= 0.5\\ngini = 0.27\\nsamples = 959\\nvalue = [154, 805]'),\n",
              " Text(0.5673469387755102, 0.8560606060606061, 'X[10451] <= 0.5\\ngini = 0.251\\nsamples = 944\\nvalue = [139, 805]'),\n",
              " Text(0.5510204081632653, 0.8409090909090909, 'X[25668] <= 0.5\\ngini = 0.234\\nsamples = 930\\nvalue = [126, 804]'),\n",
              " Text(0.5428571428571428, 0.8257575757575758, 'X[8811] <= 0.5\\ngini = 0.223\\nsamples = 922\\nvalue = [118, 804]'),\n",
              " Text(0.5346938775510204, 0.8106060606060606, 'X[20623] <= 0.5\\ngini = 0.215\\nsamples = 916\\nvalue = [112, 804]'),\n",
              " Text(0.5183673469387755, 0.7954545454545454, 'X[21203] <= 0.5\\ngini = 0.201\\nsamples = 900\\nvalue = [102, 798]'),\n",
              " Text(0.5102040816326531, 0.7803030303030303, 'X[19209] <= 0.5\\ngini = 0.193\\nsamples = 895\\nvalue = [97, 798]'),\n",
              " Text(0.5020408163265306, 0.7651515151515151, 'X[17852] <= 1.5\\ngini = 0.185\\nsamples = 890\\nvalue = [92, 798]'),\n",
              " Text(0.4857142857142857, 0.75, 'X[18139] <= 0.5\\ngini = 0.175\\nsamples = 880\\nvalue = [85, 795]'),\n",
              " Text(0.4775510204081633, 0.7348484848484849, 'X[4248] <= 0.5\\ngini = 0.168\\nsamples = 876\\nvalue = [81, 795]'),\n",
              " Text(0.46938775510204084, 0.7196969696969697, 'X[15447] <= 0.5\\ngini = 0.161\\nsamples = 872\\nvalue = [77, 795]'),\n",
              " Text(0.46122448979591835, 0.7045454545454546, 'X[29813] <= 0.5\\ngini = 0.154\\nsamples = 868\\nvalue = [73, 795]'),\n",
              " Text(0.4530612244897959, 0.6893939393939394, 'X[16309] <= 0.5\\ngini = 0.147\\nsamples = 864\\nvalue = [69, 795]'),\n",
              " Text(0.4448979591836735, 0.6742424242424242, 'X[19456] <= 0.5\\ngini = 0.142\\nsamples = 861\\nvalue = [66, 795]'),\n",
              " Text(0.43673469387755104, 0.6590909090909091, 'X[25636] <= 0.5\\ngini = 0.136\\nsamples = 858\\nvalue = [63, 795]'),\n",
              " Text(0.4061224489795918, 0.6439393939393939, 'X[8197] <= 0.5\\ngini = 0.126\\nsamples = 847\\nvalue = [57, 790]'),\n",
              " Text(0.38571428571428573, 0.6287878787878788, 'X[15880] <= 0.5\\ngini = 0.116\\nsamples = 839\\nvalue = [52, 787]'),\n",
              " Text(0.3693877551020408, 0.6136363636363636, 'X[28840] <= 0.5\\ngini = 0.11\\nsamples = 835\\nvalue = [49, 786]'),\n",
              " Text(0.36122448979591837, 0.5984848484848485, 'X[15727] <= 0.5\\ngini = 0.106\\nsamples = 833\\nvalue = [47, 786]'),\n",
              " Text(0.35306122448979593, 0.5833333333333334, 'X[13931] <= 1.5\\ngini = 0.102\\nsamples = 831\\nvalue = [45, 786]'),\n",
              " Text(0.3448979591836735, 0.5681818181818182, 'X[11162] <= 0.5\\ngini = 0.098\\nsamples = 829\\nvalue = [43, 786]'),\n",
              " Text(0.336734693877551, 0.553030303030303, 'X[8176] <= 1.5\\ngini = 0.094\\nsamples = 827\\nvalue = [41, 786]'),\n",
              " Text(0.32857142857142857, 0.5378787878787878, 'X[28792] <= 0.5\\ngini = 0.09\\nsamples = 825\\nvalue = [39, 786]'),\n",
              " Text(0.32040816326530613, 0.5227272727272727, 'X[10790] <= 0.5\\ngini = 0.086\\nsamples = 823\\nvalue = [37, 786]'),\n",
              " Text(0.3122448979591837, 0.5075757575757576, 'X[3042] <= 1.5\\ngini = 0.082\\nsamples = 821\\nvalue = [35, 786]'),\n",
              " Text(0.2897959183673469, 0.49242424242424243, 'X[10335] <= 0.5\\ngini = 0.077\\nsamples = 818\\nvalue = [33, 785]'),\n",
              " Text(0.2693877551020408, 0.4772727272727273, 'X[5363] <= 0.5\\ngini = 0.073\\nsamples = 815\\nvalue = [31, 784]'),\n",
              " Text(0.2530612244897959, 0.4621212121212121, 'X[16809] <= 0.5\\ngini = 0.069\\nsamples = 812\\nvalue = [29, 783]'),\n",
              " Text(0.24489795918367346, 0.44696969696969696, 'X[10646] <= 1.5\\ngini = 0.067\\nsamples = 811\\nvalue = [28, 783]'),\n",
              " Text(0.23673469387755103, 0.4318181818181818, 'X[29015] <= 0.5\\ngini = 0.064\\nsamples = 810\\nvalue = [27, 783]'),\n",
              " Text(0.22857142857142856, 0.4166666666666667, 'X[14186] <= 0.5\\ngini = 0.062\\nsamples = 809\\nvalue = [26, 783]'),\n",
              " Text(0.22040816326530613, 0.4015151515151515, 'X[13044] <= 2.0\\ngini = 0.06\\nsamples = 808\\nvalue = [25, 783]'),\n",
              " Text(0.21224489795918366, 0.38636363636363635, 'X[29680] <= 0.5\\ngini = 0.058\\nsamples = 807\\nvalue = [24, 783]'),\n",
              " Text(0.20408163265306123, 0.3712121212121212, 'X[26838] <= 0.5\\ngini = 0.055\\nsamples = 806\\nvalue = [23, 783]'),\n",
              " Text(0.19591836734693877, 0.3560606060606061, 'X[5191] <= 0.5\\ngini = 0.053\\nsamples = 805\\nvalue = [22, 783]'),\n",
              " Text(0.18775510204081633, 0.3409090909090909, 'X[28930] <= 0.5\\ngini = 0.051\\nsamples = 804\\nvalue = [21, 783]'),\n",
              " Text(0.17959183673469387, 0.32575757575757575, 'X[7766] <= 0.5\\ngini = 0.049\\nsamples = 803\\nvalue = [20, 783]'),\n",
              " Text(0.17142857142857143, 0.3106060606060606, 'X[16141] <= 0.5\\ngini = 0.046\\nsamples = 802\\nvalue = [19, 783]'),\n",
              " Text(0.16326530612244897, 0.29545454545454547, 'X[18536] <= 2.5\\ngini = 0.044\\nsamples = 801\\nvalue = [18, 783]'),\n",
              " Text(0.15510204081632653, 0.2803030303030303, 'X[24934] <= 1.0\\ngini = 0.042\\nsamples = 800\\nvalue = [17, 783]'),\n",
              " Text(0.1469387755102041, 0.26515151515151514, 'X[17562] <= 0.5\\ngini = 0.039\\nsamples = 799\\nvalue = [16, 783]'),\n",
              " Text(0.13877551020408163, 0.25, 'X[7511] <= 0.5\\ngini = 0.037\\nsamples = 798\\nvalue = [15, 783]'),\n",
              " Text(0.1306122448979592, 0.23484848484848486, 'X[20546] <= 1.5\\ngini = 0.035\\nsamples = 797\\nvalue = [14, 783]'),\n",
              " Text(0.12244897959183673, 0.2196969696969697, 'X[27926] <= 0.5\\ngini = 0.032\\nsamples = 796\\nvalue = [13, 783]'),\n",
              " Text(0.11428571428571428, 0.20454545454545456, 'X[6698] <= 2.0\\ngini = 0.03\\nsamples = 795\\nvalue = [12, 783]'),\n",
              " Text(0.10612244897959183, 0.1893939393939394, 'X[16568] <= 0.5\\ngini = 0.027\\nsamples = 794\\nvalue = [11, 783]'),\n",
              " Text(0.09795918367346938, 0.17424242424242425, 'X[8407] <= 0.5\\ngini = 0.025\\nsamples = 793\\nvalue = [10, 783]'),\n",
              " Text(0.08979591836734693, 0.1590909090909091, 'X[8125] <= 0.5\\ngini = 0.022\\nsamples = 792\\nvalue = [9, 783]'),\n",
              " Text(0.08163265306122448, 0.14393939393939395, 'X[1214] <= 0.5\\ngini = 0.02\\nsamples = 791\\nvalue = [8, 783]'),\n",
              " Text(0.07346938775510205, 0.12878787878787878, 'X[10360] <= 0.5\\ngini = 0.018\\nsamples = 790\\nvalue = [7, 783]'),\n",
              " Text(0.0653061224489796, 0.11363636363636363, 'X[25273] <= 0.5\\ngini = 0.015\\nsamples = 789\\nvalue = [6, 783]'),\n",
              " Text(0.05714285714285714, 0.09848484848484848, 'X[9198] <= 0.5\\ngini = 0.013\\nsamples = 788\\nvalue = [5, 783]'),\n",
              " Text(0.04897959183673469, 0.08333333333333333, 'X[17961] <= 0.5\\ngini = 0.01\\nsamples = 787\\nvalue = [4, 783]'),\n",
              " Text(0.04081632653061224, 0.06818181818181818, 'X[20339] <= 0.5\\ngini = 0.008\\nsamples = 786\\nvalue = [3, 783]'),\n",
              " Text(0.0326530612244898, 0.05303030303030303, 'X[29595] <= 0.5\\ngini = 0.005\\nsamples = 785\\nvalue = [2, 783]'),\n",
              " Text(0.0163265306122449, 0.03787878787878788, 'X[19925] <= 0.5\\ngini = 0.003\\nsamples = 783\\nvalue = [1, 782]'),\n",
              " Text(0.00816326530612245, 0.022727272727272728, 'gini = 0.0\\nsamples = 779\\nvalue = [0, 779]'),\n",
              " Text(0.024489795918367346, 0.022727272727272728, 'X[18898] <= 0.5\\ngini = 0.375\\nsamples = 4\\nvalue = [1, 3]'),\n",
              " Text(0.0163265306122449, 0.007575757575757576, 'gini = 0.0\\nsamples = 1\\nvalue = [1, 0]'),\n",
              " Text(0.0326530612244898, 0.007575757575757576, 'gini = 0.0\\nsamples = 3\\nvalue = [0, 3]'),\n",
              " Text(0.04897959183673469, 0.03787878787878788, 'X[7248] <= 0.5\\ngini = 0.5\\nsamples = 2\\nvalue = [1, 1]'),\n",
              " Text(0.04081632653061224, 0.022727272727272728, 'gini = 0.0\\nsamples = 1\\nvalue = [1, 0]'),\n",
              " Text(0.05714285714285714, 0.022727272727272728, 'gini = 0.0\\nsamples = 1\\nvalue = [0, 1]'),\n",
              " Text(0.04897959183673469, 0.05303030303030303, 'gini = 0.0\\nsamples = 1\\nvalue = [1, 0]'),\n",
              " Text(0.05714285714285714, 0.06818181818181818, 'gini = 0.0\\nsamples = 1\\nvalue = [1, 0]'),\n",
              " Text(0.0653061224489796, 0.08333333333333333, 'gini = 0.0\\nsamples = 1\\nvalue = [1, 0]'),\n",
              " Text(0.07346938775510205, 0.09848484848484848, 'gini = 0.0\\nsamples = 1\\nvalue = [1, 0]'),\n",
              " Text(0.08163265306122448, 0.11363636363636363, 'gini = 0.0\\nsamples = 1\\nvalue = [1, 0]'),\n",
              " Text(0.08979591836734693, 0.12878787878787878, 'gini = 0.0\\nsamples = 1\\nvalue = [1, 0]'),\n",
              " Text(0.09795918367346938, 0.14393939393939395, 'gini = 0.0\\nsamples = 1\\nvalue = [1, 0]'),\n",
              " Text(0.10612244897959183, 0.1590909090909091, 'gini = 0.0\\nsamples = 1\\nvalue = [1, 0]'),\n",
              " Text(0.11428571428571428, 0.17424242424242425, 'gini = 0.0\\nsamples = 1\\nvalue = [1, 0]'),\n",
              " Text(0.12244897959183673, 0.1893939393939394, 'gini = 0.0\\nsamples = 1\\nvalue = [1, 0]'),\n",
              " Text(0.1306122448979592, 0.20454545454545456, 'gini = 0.0\\nsamples = 1\\nvalue = [1, 0]'),\n",
              " Text(0.13877551020408163, 0.2196969696969697, 'gini = 0.0\\nsamples = 1\\nvalue = [1, 0]'),\n",
              " Text(0.1469387755102041, 0.23484848484848486, 'gini = 0.0\\nsamples = 1\\nvalue = [1, 0]'),\n",
              " Text(0.15510204081632653, 0.25, 'gini = 0.0\\nsamples = 1\\nvalue = [1, 0]'),\n",
              " Text(0.16326530612244897, 0.26515151515151514, 'gini = 0.0\\nsamples = 1\\nvalue = [1, 0]'),\n",
              " Text(0.17142857142857143, 0.2803030303030303, 'gini = 0.0\\nsamples = 1\\nvalue = [1, 0]'),\n",
              " Text(0.17959183673469387, 0.29545454545454547, 'gini = 0.0\\nsamples = 1\\nvalue = [1, 0]'),\n",
              " Text(0.18775510204081633, 0.3106060606060606, 'gini = 0.0\\nsamples = 1\\nvalue = [1, 0]'),\n",
              " Text(0.19591836734693877, 0.32575757575757575, 'gini = 0.0\\nsamples = 1\\nvalue = [1, 0]'),\n",
              " Text(0.20408163265306123, 0.3409090909090909, 'gini = 0.0\\nsamples = 1\\nvalue = [1, 0]'),\n",
              " Text(0.21224489795918366, 0.3560606060606061, 'gini = 0.0\\nsamples = 1\\nvalue = [1, 0]'),\n",
              " Text(0.22040816326530613, 0.3712121212121212, 'gini = 0.0\\nsamples = 1\\nvalue = [1, 0]'),\n",
              " Text(0.22857142857142856, 0.38636363636363635, 'gini = 0.0\\nsamples = 1\\nvalue = [1, 0]'),\n",
              " Text(0.23673469387755103, 0.4015151515151515, 'gini = 0.0\\nsamples = 1\\nvalue = [1, 0]'),\n",
              " Text(0.24489795918367346, 0.4166666666666667, 'gini = 0.0\\nsamples = 1\\nvalue = [1, 0]'),\n",
              " Text(0.2530612244897959, 0.4318181818181818, 'gini = 0.0\\nsamples = 1\\nvalue = [1, 0]'),\n",
              " Text(0.2612244897959184, 0.44696969696969696, 'gini = 0.0\\nsamples = 1\\nvalue = [1, 0]'),\n",
              " Text(0.2857142857142857, 0.4621212121212121, 'X[7887] <= 0.5\\ngini = 0.444\\nsamples = 3\\nvalue = [2, 1]'),\n",
              " Text(0.27755102040816326, 0.44696969696969696, 'gini = 0.0\\nsamples = 2\\nvalue = [2, 0]'),\n",
              " Text(0.2938775510204082, 0.44696969696969696, 'gini = 0.0\\nsamples = 1\\nvalue = [0, 1]'),\n",
              " Text(0.31020408163265306, 0.4772727272727273, 'X[24198] <= 1.0\\ngini = 0.444\\nsamples = 3\\nvalue = [2, 1]'),\n",
              " Text(0.3020408163265306, 0.4621212121212121, 'gini = 0.0\\nsamples = 2\\nvalue = [2, 0]'),\n",
              " Text(0.3183673469387755, 0.4621212121212121, 'gini = 0.0\\nsamples = 1\\nvalue = [0, 1]'),\n",
              " Text(0.3346938775510204, 0.49242424242424243, 'X[27806] <= 0.5\\ngini = 0.444\\nsamples = 3\\nvalue = [2, 1]'),\n",
              " Text(0.32653061224489793, 0.4772727272727273, 'gini = 0.0\\nsamples = 2\\nvalue = [2, 0]'),\n",
              " Text(0.34285714285714286, 0.4772727272727273, 'gini = 0.0\\nsamples = 1\\nvalue = [0, 1]'),\n",
              " Text(0.32857142857142857, 0.5075757575757576, 'gini = 0.0\\nsamples = 2\\nvalue = [2, 0]'),\n",
              " Text(0.336734693877551, 0.5227272727272727, 'gini = 0.0\\nsamples = 2\\nvalue = [2, 0]'),\n",
              " Text(0.3448979591836735, 0.5378787878787878, 'gini = 0.0\\nsamples = 2\\nvalue = [2, 0]'),\n",
              " Text(0.35306122448979593, 0.553030303030303, 'gini = 0.0\\nsamples = 2\\nvalue = [2, 0]'),\n",
              " Text(0.36122448979591837, 0.5681818181818182, 'gini = 0.0\\nsamples = 2\\nvalue = [2, 0]'),\n",
              " Text(0.3693877551020408, 0.5833333333333334, 'gini = 0.0\\nsamples = 2\\nvalue = [2, 0]'),\n",
              " Text(0.37755102040816324, 0.5984848484848485, 'gini = 0.0\\nsamples = 2\\nvalue = [2, 0]'),\n",
              " Text(0.4020408163265306, 0.6136363636363636, 'X[9537] <= 0.5\\ngini = 0.375\\nsamples = 4\\nvalue = [3, 1]'),\n",
              " Text(0.39387755102040817, 0.5984848484848485, 'gini = 0.0\\nsamples = 3\\nvalue = [3, 0]'),\n",
              " Text(0.41020408163265304, 0.5984848484848485, 'gini = 0.0\\nsamples = 1\\nvalue = [0, 1]'),\n",
              " Text(0.42653061224489797, 0.6287878787878788, 'X[24279] <= 0.5\\ngini = 0.469\\nsamples = 8\\nvalue = [5, 3]'),\n",
              " Text(0.41836734693877553, 0.6136363636363636, 'gini = 0.0\\nsamples = 5\\nvalue = [5, 0]'),\n",
              " Text(0.4346938775510204, 0.6136363636363636, 'gini = 0.0\\nsamples = 3\\nvalue = [0, 3]'),\n",
              " Text(0.4673469387755102, 0.6439393939393939, 'X[17277] <= 0.5\\ngini = 0.496\\nsamples = 11\\nvalue = [6, 5]'),\n",
              " Text(0.45918367346938777, 0.6287878787878788, 'X[18125] <= 0.5\\ngini = 0.245\\nsamples = 7\\nvalue = [6, 1]'),\n",
              " Text(0.45102040816326533, 0.6136363636363636, 'gini = 0.0\\nsamples = 6\\nvalue = [6, 0]'),\n",
              " Text(0.4673469387755102, 0.6136363636363636, 'gini = 0.0\\nsamples = 1\\nvalue = [0, 1]'),\n",
              " Text(0.47551020408163264, 0.6287878787878788, 'gini = 0.0\\nsamples = 4\\nvalue = [0, 4]'),\n",
              " Text(0.4530612244897959, 0.6590909090909091, 'gini = 0.0\\nsamples = 3\\nvalue = [3, 0]'),\n",
              " Text(0.46122448979591835, 0.6742424242424242, 'gini = 0.0\\nsamples = 3\\nvalue = [3, 0]'),\n",
              " Text(0.46938775510204084, 0.6893939393939394, 'gini = 0.0\\nsamples = 4\\nvalue = [4, 0]'),\n",
              " Text(0.4775510204081633, 0.7045454545454546, 'gini = 0.0\\nsamples = 4\\nvalue = [4, 0]'),\n",
              " Text(0.4857142857142857, 0.7196969696969697, 'gini = 0.0\\nsamples = 4\\nvalue = [4, 0]'),\n",
              " Text(0.49387755102040815, 0.7348484848484849, 'gini = 0.0\\nsamples = 4\\nvalue = [4, 0]'),\n",
              " Text(0.5183673469387755, 0.75, 'X[7962] <= 0.5\\ngini = 0.42\\nsamples = 10\\nvalue = [7, 3]'),\n",
              " Text(0.5102040816326531, 0.7348484848484849, 'gini = 0.0\\nsamples = 7\\nvalue = [7, 0]'),\n",
              " Text(0.5265306122448979, 0.7348484848484849, 'gini = 0.0\\nsamples = 3\\nvalue = [0, 3]'),\n",
              " Text(0.5183673469387755, 0.7651515151515151, 'gini = 0.0\\nsamples = 5\\nvalue = [5, 0]'),\n",
              " Text(0.5265306122448979, 0.7803030303030303, 'gini = 0.0\\nsamples = 5\\nvalue = [5, 0]'),\n",
              " Text(0.5510204081632653, 0.7954545454545454, 'X[25256] <= 0.5\\ngini = 0.469\\nsamples = 16\\nvalue = [10, 6]'),\n",
              " Text(0.5428571428571428, 0.7803030303030303, 'X[12752] <= 0.5\\ngini = 0.278\\nsamples = 12\\nvalue = [10, 2]'),\n",
              " Text(0.5346938775510204, 0.7651515151515151, 'gini = 0.0\\nsamples = 10\\nvalue = [10, 0]'),\n",
              " Text(0.5510204081632653, 0.7651515151515151, 'gini = 0.0\\nsamples = 2\\nvalue = [0, 2]'),\n",
              " Text(0.5591836734693878, 0.7803030303030303, 'gini = 0.0\\nsamples = 4\\nvalue = [0, 4]'),\n",
              " Text(0.5510204081632653, 0.8106060606060606, 'gini = 0.0\\nsamples = 6\\nvalue = [6, 0]'),\n",
              " Text(0.5591836734693878, 0.8257575757575758, 'gini = 0.0\\nsamples = 8\\nvalue = [8, 0]'),\n",
              " Text(0.5836734693877551, 0.8409090909090909, 'X[16306] <= 2.5\\ngini = 0.133\\nsamples = 14\\nvalue = [13, 1]'),\n",
              " Text(0.5755102040816327, 0.8257575757575758, 'gini = 0.0\\nsamples = 13\\nvalue = [13, 0]'),\n",
              " Text(0.5918367346938775, 0.8257575757575758, 'gini = 0.0\\nsamples = 1\\nvalue = [0, 1]'),\n",
              " Text(0.5836734693877551, 0.8560606060606061, 'gini = 0.0\\nsamples = 15\\nvalue = [15, 0]'),\n",
              " Text(0.5918367346938775, 0.8712121212121212, 'gini = 0.0\\nsamples = 15\\nvalue = [15, 0]'),\n",
              " Text(0.6408163265306123, 0.8863636363636364, 'X[24812] <= 1.5\\ngini = 0.307\\nsamples = 37\\nvalue = [30, 7]'),\n",
              " Text(0.6326530612244898, 0.8712121212121212, 'X[22726] <= 0.5\\ngini = 0.208\\nsamples = 34\\nvalue = [30, 4]'),\n",
              " Text(0.6244897959183674, 0.8560606060606061, 'X[9691] <= 0.5\\ngini = 0.117\\nsamples = 32\\nvalue = [30, 2]'),\n",
              " Text(0.6163265306122448, 0.8409090909090909, 'X[2889] <= 0.5\\ngini = 0.062\\nsamples = 31\\nvalue = [30, 1]'),\n",
              " Text(0.6081632653061224, 0.8257575757575758, 'gini = 0.0\\nsamples = 30\\nvalue = [30, 0]'),\n",
              " Text(0.6244897959183674, 0.8257575757575758, 'gini = 0.0\\nsamples = 1\\nvalue = [0, 1]'),\n",
              " Text(0.6326530612244898, 0.8409090909090909, 'gini = 0.0\\nsamples = 1\\nvalue = [0, 1]'),\n",
              " Text(0.6408163265306123, 0.8560606060606061, 'gini = 0.0\\nsamples = 2\\nvalue = [0, 2]'),\n",
              " Text(0.6489795918367347, 0.8712121212121212, 'gini = 0.0\\nsamples = 3\\nvalue = [0, 3]'),\n",
              " Text(0.689795918367347, 0.9015151515151515, 'X[19908] <= 0.5\\ngini = 0.338\\nsamples = 65\\nvalue = [51, 14]'),\n",
              " Text(0.673469387755102, 0.8863636363636364, 'X[22974] <= 0.5\\ngini = 0.145\\nsamples = 51\\nvalue = [47, 4]'),\n",
              " Text(0.6653061224489796, 0.8712121212121212, 'gini = 0.0\\nsamples = 46\\nvalue = [46, 0]'),\n",
              " Text(0.6816326530612244, 0.8712121212121212, 'X[15645] <= 0.5\\ngini = 0.32\\nsamples = 5\\nvalue = [1, 4]'),\n",
              " Text(0.673469387755102, 0.8560606060606061, 'gini = 0.0\\nsamples = 4\\nvalue = [0, 4]'),\n",
              " Text(0.689795918367347, 0.8560606060606061, 'gini = 0.0\\nsamples = 1\\nvalue = [1, 0]'),\n",
              " Text(0.7061224489795919, 0.8863636363636364, 'X[9039] <= 0.5\\ngini = 0.408\\nsamples = 14\\nvalue = [4, 10]'),\n",
              " Text(0.6979591836734694, 0.8712121212121212, 'gini = 0.0\\nsamples = 9\\nvalue = [0, 9]'),\n",
              " Text(0.7142857142857143, 0.8712121212121212, 'X[8394] <= 0.5\\ngini = 0.32\\nsamples = 5\\nvalue = [4, 1]'),\n",
              " Text(0.7061224489795919, 0.8560606060606061, 'gini = 0.0\\nsamples = 4\\nvalue = [4, 0]'),\n",
              " Text(0.7224489795918367, 0.8560606060606061, 'gini = 0.0\\nsamples = 1\\nvalue = [0, 1]'),\n",
              " Text(0.7755102040816326, 0.9166666666666666, 'X[12294] <= 0.5\\ngini = 0.236\\nsamples = 66\\nvalue = [57, 9]'),\n",
              " Text(0.7551020408163265, 0.9015151515151515, 'X[22974] <= 0.5\\ngini = 0.097\\nsamples = 59\\nvalue = [56, 3]'),\n",
              " Text(0.7387755102040816, 0.8863636363636364, 'X[24127] <= 0.5\\ngini = 0.035\\nsamples = 56\\nvalue = [55, 1]'),\n",
              " Text(0.7306122448979592, 0.8712121212121212, 'gini = 0.0\\nsamples = 55\\nvalue = [55, 0]'),\n",
              " Text(0.746938775510204, 0.8712121212121212, 'gini = 0.0\\nsamples = 1\\nvalue = [0, 1]'),\n",
              " Text(0.7714285714285715, 0.8863636363636364, 'X[4788] <= 0.5\\ngini = 0.444\\nsamples = 3\\nvalue = [1, 2]'),\n",
              " Text(0.763265306122449, 0.8712121212121212, 'gini = 0.0\\nsamples = 2\\nvalue = [0, 2]'),\n",
              " Text(0.7795918367346939, 0.8712121212121212, 'gini = 0.0\\nsamples = 1\\nvalue = [1, 0]'),\n",
              " Text(0.7959183673469388, 0.9015151515151515, 'X[4692] <= 0.5\\ngini = 0.245\\nsamples = 7\\nvalue = [1, 6]'),\n",
              " Text(0.7877551020408163, 0.8863636363636364, 'gini = 0.0\\nsamples = 6\\nvalue = [0, 6]'),\n",
              " Text(0.8040816326530612, 0.8863636363636364, 'gini = 0.0\\nsamples = 1\\nvalue = [1, 0]'),\n",
              " Text(0.9, 0.9318181818181818, 'X[7949] <= 0.5\\ngini = 0.434\\nsamples = 267\\nvalue = [182, 85]'),\n",
              " Text(0.8653061224489796, 0.9166666666666666, 'X[7731] <= 0.5\\ngini = 0.318\\nsamples = 202\\nvalue = [162, 40]'),\n",
              " Text(0.8367346938775511, 0.9015151515151515, 'X[3762] <= 0.5\\ngini = 0.236\\nsamples = 183\\nvalue = [158, 25]'),\n",
              " Text(0.8204081632653061, 0.8863636363636364, 'X[11330] <= 0.5\\ngini = 0.144\\nsamples = 167\\nvalue = [154, 13]'),\n",
              " Text(0.8122448979591836, 0.8712121212121212, 'X[24427] <= 0.5\\ngini = 0.094\\nsamples = 162\\nvalue = [154, 8]'),\n",
              " Text(0.8040816326530612, 0.8560606060606061, 'X[24824] <= 2.0\\ngini = 0.061\\nsamples = 159\\nvalue = [154, 5]'),\n",
              " Text(0.7959183673469388, 0.8409090909090909, 'X[6061] <= 0.5\\ngini = 0.049\\nsamples = 158\\nvalue = [154, 4]'),\n",
              " Text(0.7877551020408163, 0.8257575757575758, 'X[17378] <= 0.5\\ngini = 0.037\\nsamples = 157\\nvalue = [154, 3]'),\n",
              " Text(0.7795918367346939, 0.8106060606060606, 'X[16895] <= 1.5\\ngini = 0.025\\nsamples = 156\\nvalue = [154, 2]'),\n",
              " Text(0.7714285714285715, 0.7954545454545454, 'X[24168] <= 0.5\\ngini = 0.013\\nsamples = 155\\nvalue = [154, 1]'),\n",
              " Text(0.763265306122449, 0.7803030303030303, 'gini = 0.0\\nsamples = 154\\nvalue = [154, 0]'),\n",
              " Text(0.7795918367346939, 0.7803030303030303, 'gini = 0.0\\nsamples = 1\\nvalue = [0, 1]'),\n",
              " Text(0.7877551020408163, 0.7954545454545454, 'gini = 0.0\\nsamples = 1\\nvalue = [0, 1]'),\n",
              " Text(0.7959183673469388, 0.8106060606060606, 'gini = 0.0\\nsamples = 1\\nvalue = [0, 1]'),\n",
              " Text(0.8040816326530612, 0.8257575757575758, 'gini = 0.0\\nsamples = 1\\nvalue = [0, 1]'),\n",
              " Text(0.8122448979591836, 0.8409090909090909, 'gini = 0.0\\nsamples = 1\\nvalue = [0, 1]'),\n",
              " Text(0.8204081632653061, 0.8560606060606061, 'gini = 0.0\\nsamples = 3\\nvalue = [0, 3]'),\n",
              " Text(0.8285714285714286, 0.8712121212121212, 'gini = 0.0\\nsamples = 5\\nvalue = [0, 5]'),\n",
              " Text(0.8530612244897959, 0.8863636363636364, 'X[8284] <= 1.0\\ngini = 0.375\\nsamples = 16\\nvalue = [4, 12]'),\n",
              " Text(0.8448979591836735, 0.8712121212121212, 'X[25717] <= 0.5\\ngini = 0.245\\nsamples = 14\\nvalue = [2, 12]'),\n",
              " Text(0.8367346938775511, 0.8560606060606061, 'X[25150] <= 0.5\\ngini = 0.142\\nsamples = 13\\nvalue = [1, 12]'),\n",
              " Text(0.8285714285714286, 0.8409090909090909, 'gini = 0.0\\nsamples = 12\\nvalue = [0, 12]'),\n",
              " Text(0.8448979591836735, 0.8409090909090909, 'gini = 0.0\\nsamples = 1\\nvalue = [1, 0]'),\n",
              " Text(0.8530612244897959, 0.8560606060606061, 'gini = 0.0\\nsamples = 1\\nvalue = [1, 0]'),\n",
              " Text(0.8612244897959184, 0.8712121212121212, 'gini = 0.0\\nsamples = 2\\nvalue = [2, 0]'),\n",
              " Text(0.8938775510204081, 0.9015151515151515, 'X[902] <= 1.5\\ngini = 0.332\\nsamples = 19\\nvalue = [4, 15]'),\n",
              " Text(0.8857142857142857, 0.8863636363636364, 'X[5293] <= 0.5\\ngini = 0.117\\nsamples = 16\\nvalue = [1, 15]'),\n",
              " Text(0.8775510204081632, 0.8712121212121212, 'gini = 0.0\\nsamples = 15\\nvalue = [0, 15]'),\n",
              " Text(0.8938775510204081, 0.8712121212121212, 'gini = 0.0\\nsamples = 1\\nvalue = [1, 0]'),\n",
              " Text(0.9020408163265307, 0.8863636363636364, 'gini = 0.0\\nsamples = 3\\nvalue = [3, 0]'),\n",
              " Text(0.9346938775510204, 0.9166666666666666, 'X[15727] <= 0.5\\ngini = 0.426\\nsamples = 65\\nvalue = [20, 45]'),\n",
              " Text(0.926530612244898, 0.9015151515151515, 'X[8149] <= 0.5\\ngini = 0.316\\nsamples = 56\\nvalue = [11, 45]'),\n",
              " Text(0.9183673469387755, 0.8863636363636364, 'X[23086] <= 0.5\\ngini = 0.208\\nsamples = 51\\nvalue = [6, 45]'),\n",
              " Text(0.9102040816326531, 0.8712121212121212, 'X[23358] <= 1.0\\ngini = 0.081\\nsamples = 47\\nvalue = [2, 45]'),\n",
              " Text(0.9020408163265307, 0.8560606060606061, 'gini = 0.0\\nsamples = 45\\nvalue = [0, 45]'),\n",
              " Text(0.9183673469387755, 0.8560606060606061, 'gini = 0.0\\nsamples = 2\\nvalue = [2, 0]'),\n",
              " Text(0.926530612244898, 0.8712121212121212, 'gini = 0.0\\nsamples = 4\\nvalue = [4, 0]'),\n",
              " Text(0.9346938775510204, 0.8863636363636364, 'gini = 0.0\\nsamples = 5\\nvalue = [5, 0]'),\n",
              " Text(0.9428571428571428, 0.9015151515151515, 'gini = 0.0\\nsamples = 9\\nvalue = [9, 0]'),\n",
              " Text(0.9836734693877551, 0.946969696969697, 'X[922] <= 0.5\\ngini = 0.162\\nsamples = 157\\nvalue = [143, 14]'),\n",
              " Text(0.9755102040816327, 0.9318181818181818, 'X[9273] <= 0.5\\ngini = 0.1\\nsamples = 151\\nvalue = [143, 8]'),\n",
              " Text(0.9673469387755103, 0.9166666666666666, 'X[23979] <= 0.5\\ngini = 0.04\\nsamples = 146\\nvalue = [143, 3]'),\n",
              " Text(0.9591836734693877, 0.9015151515151515, 'X[12105] <= 0.5\\ngini = 0.014\\nsamples = 144\\nvalue = [143, 1]'),\n",
              " Text(0.9510204081632653, 0.8863636363636364, 'gini = 0.0\\nsamples = 143\\nvalue = [143, 0]'),\n",
              " Text(0.9673469387755103, 0.8863636363636364, 'gini = 0.0\\nsamples = 1\\nvalue = [0, 1]'),\n",
              " Text(0.9755102040816327, 0.9015151515151515, 'gini = 0.0\\nsamples = 2\\nvalue = [0, 2]'),\n",
              " Text(0.9836734693877551, 0.9166666666666666, 'gini = 0.0\\nsamples = 5\\nvalue = [0, 5]'),\n",
              " Text(0.9918367346938776, 0.9318181818181818, 'gini = 0.0\\nsamples = 6\\nvalue = [0, 6]'),\n",
              " Text(0.9114795918367347, 0.9621212121212122, 'gini = 0.0\\nsamples = 531\\nvalue = [531, 0]'),\n",
              " Text(0.9196428571428571, 0.9772727272727273, 'gini = 0.0\\nsamples = 1912\\nvalue = [1912, 0]')]"
            ]
          },
          "metadata": {},
          "execution_count": 30
        },
        {
          "output_type": "display_data",
          "data": {
            "text/plain": [
              "<Figure size 432x288 with 1 Axes>"
            ],
            "image/png": "[encoded data removed]"
          },
          "metadata": {
            "needs_background": "light"
          }
        }
      ]
    },
    {
      "cell_type": "markdown",
      "source": [
        "How many of the word stems \"enron\", \"hou\", \"vinc\", and \"kaminski\" appear in the CART tree? \n",
        "\n",
        "In the most frequently used Ham words, the words 'Vinc' and 'enron' appear and hence will be used for Ham classification in case of CART algorithm."
      ],
      "metadata": {
        "id": "8PF7ibqT9Yxy"
      }
    },
    {
      "cell_type": "code",
      "source": [
        "#CART tarin accuracy\n",
        "\n",
        "from sklearn.metrics import accuracy_score, precision_score, recall_score,f1_score\n",
        "\n",
        "print('Accuracy score: ', accuracy_score(y_test, y_pred))\n",
        "print('Precision score: ', precision_score(y_test, y_pred))\n",
        "print('Recall score: ', recall_score(y_test, y_pred))\n",
        "print(\"F1 score: \",f1_score(y_test, y_pred))"
      ],
      "metadata": {
        "id": "TOY0Dqy06844",
        "colab": {
          "base_uri": "https://localhost:8080/"
        },
        "outputId": "27e424d4-4fbf-4ac3-d5bf-5c1a4f7a8865"
      },
      "execution_count": 31,
      "outputs": [
        {
          "output_type": "stream",
          "name": "stdout",
          "text": [
            "Accuracy score:  0.9522978475858057\n",
            "Precision score:  0.8946188340807175\n",
            "Recall score:  0.9193548387096774\n",
            "F1 score:  0.906818181818182\n"
          ]
        }
      ]
    },
    {
      "cell_type": "markdown",
      "source": [
        "What is the testing set accuracy of spamCART, using a threshold of 0.5 for predictions? \n",
        "\n",
        "The testing set accuracy for CART is 96.2187%"
      ],
      "metadata": {
        "id": "4snKlmb5915g"
      }
    },
    {
      "cell_type": "code",
      "source": [
        "#Random Forest train accuracy\n",
        "from sklearn.metrics import accuracy_score, precision_score, recall_score,f1_score\n",
        "\n",
        "print('Accuracy score: ', accuracy_score(y_test, y_pred1))\n",
        "print('Precision score: ', precision_score(y_test, y_pred1))\n",
        "print('Recall score: ', recall_score(y_test, y_pred1))\n",
        "print(\"F1 score: \",f1_score(y_test, y_pred1))"
      ],
      "metadata": {
        "id": "eRDJEp6nVVdm",
        "colab": {
          "base_uri": "https://localhost:8080/"
        },
        "outputId": "7e3638ef-2ba1-41a7-e358-814482a37d15"
      },
      "execution_count": 32,
      "outputs": [
        {
          "output_type": "stream",
          "name": "stdout",
          "text": [
            "Accuracy score:  0.9778941244909831\n",
            "Precision score:  0.9900990099009901\n",
            "Recall score:  0.9216589861751152\n",
            "F1 score:  0.954653937947494\n"
          ]
        }
      ]
    },
    {
      "cell_type": "markdown",
      "source": [
        "What is the testing set accuracy of spamRF, using a threshold of 0.5 for predictions? \n",
        "\n",
        "The testing set accuracy for Random Forest is 97.673065%"
      ],
      "metadata": {
        "id": "kZkkPm5Y-FXX"
      }
    },
    {
      "cell_type": "code",
      "source": [
        "from sklearn import metrics\n",
        "import numpy as np\n",
        "import matplotlib.pyplot as plt\n",
        "fpr, tpr, _ = metrics.roc_curve(y_test,  y_pred)\n",
        "auc = round(metrics.roc_auc_score(y_test,  y_pred), 4)\n",
        "plt.plot(fpr,tpr,label=\"CART, AUC=\"+str(auc))\n",
        "\n",
        "fpr, tpr, _ = metrics.roc_curve(y_test,  y_pred1)\n",
        "auc = round(metrics.roc_auc_score(y_test,  y_pred1), 4)\n",
        "plt.plot(fpr,tpr,label=\"Random Forest, AUC=\"+str(auc))\n",
        "\n",
        "#add legend\n",
        "plt.legend()"
      ],
      "metadata": {
        "id": "Vpb7v7oRbGRN",
        "colab": {
          "base_uri": "https://localhost:8080/",
          "height": 290
        },
        "outputId": "b76988c9-9aa9-4ee7-dfbe-f648490937d0"
      },
      "execution_count": 33,
      "outputs": [
        {
          "output_type": "execute_result",
          "data": {
            "text/plain": [
              "<matplotlib.legend.Legend at 0x7f0e5c95d6a0>"
            ]
          },
          "metadata": {},
          "execution_count": 33
        },
        {
          "output_type": "display_data",
          "data": {
            "text/plain": [
              "<Figure size 432x288 with 1 Axes>"
            ],
            "image/png": "[encoded data removed]"
          },
          "metadata": {
            "needs_background": "light"
          }
        }
      ]
    },
    {
      "cell_type": "markdown",
      "source": [
        "What is the testing set AUC of spamCART? \n",
        "\n",
        "The testing set AUC for SpamCART is 0.9503\n",
        "\n",
        "What is the testing set AUC of spamRF? \n",
        "\n",
        "The testing set AUC for SpamCART is 0.9539"
      ],
      "metadata": {
        "id": "yP72lllz-VLl"
      }
    },
    {
      "cell_type": "markdown",
      "source": [
        "Inferences:\n",
        "\n",
        "\n",
        "\n",
        "\n",
        "\n",
        "1. AUC score for CART is 0.9503 and Random Forest is 0.9539 in the above model\n",
        "2.  AUC gives a measure of separability for classes \n",
        "3. A good AUC score indicates good separability\n",
        "4. Here the AUC score for Random Forest is greater hence provides a better separabilty\n",
        "5. In the above dataset, the training accuracy is 100% for both models.\n",
        "6. Data preprocessing is crucial as it helps to remove all the unecessary words and characters and convert it into a suitable form for the algorithm.\n",
        "\n"
      ],
      "metadata": {
        "id": "swNxbWl549aU"
      }
    }
  ]
}